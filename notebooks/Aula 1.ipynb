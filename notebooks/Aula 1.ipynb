{
 "cells": [
  {
   "cell_type": "markdown",
   "metadata": {},
   "source": [
    "<div class=\"row\">\n",
    "  <div class=\"col-xs-2 col-xs-offset-3\">\n",
    "  <img src=\"img/semabio.jpg\" width=80>\n",
    "  </div>\n",
    "  \n",
    "  <div class=\"col-xs-1\" style=\"margin-top: 12px;\">\n",
    "  <a href=\"http://www.unb.br\" target=\"_blank\"><img src=\"img/unb.jpg\" width=70></a>\n",
    "  </div>\n",
    "\n",
    "  <div class=\"col-xs-3\" style=\"margin-top: 14px;\">\n",
    "  <a href=\"http://www.lncc.br\" target=\"_blank\"><img src=\"img/lncc.png\" width=140></a>\n",
    "  </div>\n",
    "</div>"
   ]
  },
  {
   "cell_type": "markdown",
   "metadata": {},
   "source": [
    "## <center>Programação de Computadores para Estudantes de Biologia</center>\n",
    "###  <center>Uma Introdução Prática</center>\n",
    "---\n",
    "## <center>Aula 1. Conceitos Fundamentais</center>\n",
    "##### <center>Instrutor: <a href=\"https://pedrosiracusa.github.io\" target=\"_blank\">Pedro C. de Siracusa</a></center>\n",
    "##### <center>Data: Out 2017</center>"
   ]
  },
  {
   "cell_type": "markdown",
   "metadata": {},
   "source": [
    "##### Conteúdos\n",
    "* [1. Introdução](#1.-Introdução)\n",
    "* [2. Conhecendo os principais tipos e valores](#2.-Conhecendo-os-principais-tipos-e-valores)\n",
    "\n",
    "* [3. Seu primeiro programa](#3.-Seu-primeiro-programa)\n",
    "  * [3.1 Operadores e expressões](#3.1-Operadores-e-expressões)\n",
    "  * [3.2 Variáveis e atribuições](#3.2-Variáveis-e-atribuições)\n",
    "  \n",
    "* [4. Organizando e estruturando informações](#4.-Organizando-e-estruturando-informações)\n",
    "  * [4.1 Listas](#4.1-Listas)\n",
    "  * [4.2 Dicionários](#4.2-Dicionários)\n",
    "  \n",
    "* [5. Adicionando lógica aos seus programas](#5.-Adicionando-lógica-aos-seus-programas)\n",
    "  * [5.1 Expressões condicionais](#5.1-Expressões-condicionais)\n",
    "  \n",
    "* [6. Lidando com comandos repetitivos](#6.-Lidando-com-comandos-repetitivos)\n",
    "  * [6.1 Estruturas de repetição: Loops](#6.1-Estruturas-de-repetição:-loops)\n",
    "  * [6.2 Funções](#6.2-Funções)\n",
    "  \n",
    "* [7. Considerações Finais](#7.-Considerações-Finais)"
   ]
  },
  {
   "cell_type": "markdown",
   "metadata": {},
   "source": [
    "---"
   ]
  },
  {
   "cell_type": "markdown",
   "metadata": {},
   "source": [
    "# 1. Introdução"
   ]
  },
  {
   "cell_type": "markdown",
   "metadata": {},
   "source": [
    "Apesar de o mundo da computação ser repleto de jargões e abstrações próprias, muitas das ideias que compõem este domínio mostram-se análogas a conceitos já conhecidos do nosso cotidiano. Em um primeiro contato com a prática da programação explorar analogias acaba potencializando o aprendizado, facilitando a compreensão e abstração de conceitos mais fundamentais por aproximá-los ao senso comum. Para entender o que é programar vamos começar com uma analogia que possivelmente despertará suas memórias de infância: brincar com **LEGO** (ou similares).\n",
    "\n",
    "<img src=\"img/lego_programming.png\" >\n",
    "\n"
   ]
  },
  {
   "cell_type": "markdown",
   "metadata": {},
   "source": [
    "Seguindo esta analogia o trabalho do **programador** é construir estruturas complexas (como um castelo) utilizando blocos fundamentais, partindo do pressuposto de que os blocos já estarão disponíveis para ele. Ele projeta as funcionalidades que deseja criar com suas construções e planeja como utilizar os blocos disponíveis para chegar até elas. Sendo assim o programador não precisa se preocupar em construir os blocos do zero antes de começar a trabalhar. \n",
    "\n",
    "O conjunto de blocos fundamentais disponíveis para o programador constituiria uma **linguagem de programação**. Em termos gerais ela reúne conjuntos de regras e estruturas que permitem que o programador expresse suas ideias na forma de **código**. Escrever código seria como encaixar blocos. Neste curso você trabalhará com a linguagem [*Python*](https://www.python.org/), uma linguagem de **propósito geral** que oferece **alto nível** de abstração. Isso faz de *Python* uma excelente primeira linguagem a ser aprendida, pois *(i)* você poderá aplicar seus novos conhecimentos em programação a vários projetos e contextos diferentes; e *(ii)* você trabalhará sem se preocupar com detalhes sobre como seu código se traduz para **código de máquina**, que é o código que seu computador de fato \"entende\". Entretanto existem muitas outras linguagens de programação, cada qual projetada para um propósito. Você já deve ter ouvido falar, por exemplo, da [linguagem R](https://www.r-project.org/), muito utilizada para computação estatística e análise de dados."
   ]
  },
  {
   "cell_type": "markdown",
   "metadata": {},
   "source": [
    "---"
   ]
  },
  {
   "cell_type": "markdown",
   "metadata": {},
   "source": [
    "## 2. Conhecendo os principais tipos e valores\n",
    "Antes de começar a montar LEGO precisamos conhecer os formatos e cores dos blocos com os quais trabalharemos, certo? Assim podemos planejar como melhor representar cada elemento que queremos construir. Além disso, outros fabricantes de brinquedos montáveis fornecem blocos parecidos com os da LEGO em formato e cor, mas sempre existem particularidades. Nas linguagens de programação isso também ocorre com tipos e valores. \n"
   ]
  },
  {
   "cell_type": "markdown",
   "metadata": {},
   "source": [
    "**Tipos** são abstrações fundamentais da linguagem que nos permitem representar elementos de informação. Cada linguagem possui um conjunto de *tipos primitivos* (ou fundamentais), a partir dos quais o programador pode construir *tipos compostos*. Tipos são análogos aos diferentes formatos de blocos disponíveis em uma caixa de LEGO. Pense em tipos compostos como se você \"criasse\" uma peça nova colando (e não encaixando) peças menores. Veja os [tipos nativos](https://docs.python.org/3/library/stdtypes.html#built-in-types) em *Python*.\n",
    "\n",
    "**Valores** são os elementos de informação em si. O conjunto de diferentes valores que podem ser representados por um tipo é finito, formando uma gama limitada de opções. No mundo LEGO são as cores com que as peças podem aparecer. Entretanto saiba que o número de cores disponíveis para cada peça em LEGO é em geral muito menor do que o tamanho do conjunto de valores para cada tipo em uma linguagem de programação!\n",
    "\n",
    "<img src=\"img/lego_typesvalues.png\">\n"
   ]
  },
  {
   "cell_type": "markdown",
   "metadata": {},
   "source": [
    "A que tipos pertencem os **valores** a seguir?"
   ]
  },
  {
   "cell_type": "markdown",
   "metadata": {},
   "source": [
    "Tipo de **3** : `int` (inteiro)\n",
    "\n",
    "Tipo de **3.5** : `float` (ponto flutuante)\n",
    "\n",
    "Tipo de **'3'** : `str` (string)\n",
    "\n",
    "Tipo de **\"3.5\"** : `str` (string)\n",
    "\n",
    "Tipo de **True**: `bool` (booleano)"
   ]
  },
  {
   "cell_type": "markdown",
   "metadata": {},
   "source": [
    "Exemplificar os **tipos** a seguir:"
   ]
  },
  {
   "cell_type": "markdown",
   "metadata": {},
   "source": [
    "*String (str)* : `\"Uma Palavra\"`\n",
    "\n",
    "*Integer (int)* : `3`\n",
    "\n",
    "*Boolean* : `True`\n",
    "\n",
    "*Float* : `3.57`"
   ]
  },
  {
   "cell_type": "markdown",
   "metadata": {},
   "source": [
    "### Como descobrir o tipo de um valor?\n",
    "\n",
    "A **função** [`type`](https://docs.python.org/3/library/functions.html#type) é nativa do Python e pode ser usada para descobrir o tipo de um dado valor.\n",
    "\n",
    "> **Funções** são estruturas que recebem dados de entrada (*input*) e criam como resultado dados de saída (*output*) segundo um conjunto de instruções pré-definidas. Veremos este tópico mais adiante, mas por enquanto saiba que para utilizá-las você deve seguir a sintaxe: `nome_funcao(input)`. Experimente na célula abaixo!"
   ]
  },
  {
   "cell_type": "code",
   "execution_count": 1,
   "metadata": {},
   "outputs": [
    {
     "data": {
      "text/plain": [
       "bool"
      ]
     },
     "execution_count": 1,
     "metadata": {},
     "output_type": "execute_result"
    }
   ],
   "source": [
    "type(False)"
   ]
  },
  {
   "cell_type": "code",
   "execution_count": 2,
   "metadata": {},
   "outputs": [
    {
     "data": {
      "text/plain": [
       "int"
      ]
     },
     "execution_count": 2,
     "metadata": {},
     "output_type": "execute_result"
    }
   ],
   "source": [
    "type(3)"
   ]
  },
  {
   "cell_type": "code",
   "execution_count": 3,
   "metadata": {},
   "outputs": [
    {
     "data": {
      "text/plain": [
       "float"
      ]
     },
     "execution_count": 3,
     "metadata": {},
     "output_type": "execute_result"
    }
   ],
   "source": [
    "type(3.57)"
   ]
  },
  {
   "cell_type": "code",
   "execution_count": 4,
   "metadata": {},
   "outputs": [
    {
     "data": {
      "text/plain": [
       "str"
      ]
     },
     "execution_count": 4,
     "metadata": {},
     "output_type": "execute_result"
    }
   ],
   "source": [
    "type(\"Uma Palavra\")"
   ]
  },
  {
   "cell_type": "markdown",
   "metadata": {},
   "source": [
    "> **Comentários**: Linhas de código precedidas por um `#` são comentários, que funcionam como mensagens a quem está lendo seu código, normalmente outros programadores. É comum utilizar comentários para documentar partes de um código, ou marcar regiões que devem ser trabalhadas futuramente. Qualquer coisa escrita na mesma linha à direita do símbolo é simplesmente ignorada pelo interpretador."
   ]
  },
  {
   "cell_type": "code",
   "execution_count": 5,
   "metadata": {},
   "outputs": [
    {
     "name": "stdout",
     "output_type": "stream",
     "text": [
      "Primeira linha\n",
      "Segunda linha\n"
     ]
    }
   ],
   "source": [
    "# Este é um comentário. Ele serve para explicar alguma parte do código para o desenvolvedor\n",
    "# As duas linhas abaixo serão imprimidas no console\n",
    "\n",
    "print(\"Primeira linha\")\n",
    "print(\"Segunda linha\")"
   ]
  },
  {
   "cell_type": "code",
   "execution_count": 6,
   "metadata": {},
   "outputs": [
    {
     "name": "stdout",
     "output_type": "stream",
     "text": [
      "Segunda linha\n"
     ]
    }
   ],
   "source": [
    "# Podemos comentar linhas de código para que elas sejam ignoradas\n",
    "# Comentamos a primeira linha e somente a segunda será imprimida\n",
    "\n",
    "#print(\"Primeira linha\")\n",
    "print(\"Segunda linha\")"
   ]
  },
  {
   "cell_type": "code",
   "execution_count": 7,
   "metadata": {},
   "outputs": [
    {
     "name": "stdout",
     "output_type": "stream",
     "text": [
      "Primeira linha\n"
     ]
    }
   ],
   "source": [
    "# Comentamos a segunda linha e somente a primeira será imprimida\n",
    "\n",
    "print(\"Primeira linha\")\n",
    "#print(\"Segunda linha\")"
   ]
  },
  {
   "cell_type": "markdown",
   "metadata": {},
   "source": [
    "Agora que você já conhece os principais tipos (que por sinal existem em grande parte das linguagens de programação) podemos começar a \"encaixar blocos\", ou seja, escrever código. Nas seções seguintes você verá como fazê-lo para resolver diferentes tipos de problemas."
   ]
  },
  {
   "cell_type": "markdown",
   "metadata": {},
   "source": [
    "---"
   ]
  },
  {
   "cell_type": "markdown",
   "metadata": {},
   "source": [
    "## 3. Seu primeiro programa"
   ]
  },
  {
   "cell_type": "markdown",
   "metadata": {},
   "source": [
    "##### A calculadora bacteriana\n",
    "\n",
    "Você trabalha no laboratório de Microbiologia e está cultivando uma colônia de bactérias para seu experimento em um meio rico em nutrientes. Você sabe que o tempo médio que estas bactérias levam para se reproduzir por fissão binária - ou *tempo de geração* - é de 20 minutos. Como construir um **modelo** para estimar o tamanho desta população no meio como resultado do tempo decorrido desde sua colonização? Por simplicidade, vamos considerar aqui que o crescimento é **exponencial** durante todo o processo."
   ]
  },
  {
   "cell_type": "markdown",
   "metadata": {},
   "source": [
    "##### Desenvolvimento\n"
   ]
  },
  {
   "cell_type": "markdown",
   "metadata": {},
   "source": [
    "Seu primeiro programa será esta calculadora bacteriana. Ela funcionará com base em um modelo matemático bastante simples criado para o estudo de crescimento em populações biológicas: o **modelo de crescimento exponencial**\n",
    "\n",
    "$$ N(t)=N_i\\cdot 2^{ \\frac{t}{g}}$$\n",
    "\n",
    "em que:\n",
    "* $N(t)$ é o tamanho populacional no tempo $t$;\n",
    "* $N_i$ é o tamanho da população colonizadora;\n",
    "* $t$ é o tempo decorrido desde a colonização;\n",
    "* $g$ é o tempo de geração da bactéria.\n",
    "\n",
    "Precisamos representar este modelo no computador. Para isso precisaremos entender sobre **operadores**, **expressões** e **variáveis**."
   ]
  },
  {
   "cell_type": "markdown",
   "metadata": {},
   "source": [
    "### 3.1 Operadores e expressões"
   ]
  },
  {
   "cell_type": "markdown",
   "metadata": {},
   "source": [
    "**Operadores** são símbolos que realizam computações mais fundamentais - como por exemplo soma, subtração, multiplicação e divisão -, utilizando sintaxes pré-definidas. Um resultado é obtido a partir de sua atuação sobre dois operandos. **Expressões** são escritas combinando valores e operadores, e sua avaliação fornece algum resultado. Experimente abaixo os operadores aritméticos de soma, subtração, multiplicação, exponencial, divisão e módulo (`+`, `-`, `*`, `**`, `/`, `%`)."
   ]
  },
  {
   "cell_type": "code",
   "execution_count": 8,
   "metadata": {},
   "outputs": [
    {
     "name": "stdout",
     "output_type": "stream",
     "text": [
      "9 + 9 = 18\n",
      "257 - 194 = 63\n",
      "137 x 7 = 959\n",
      "2^8 =  512\n",
      "91 / 6 = 15.166666666666666\n",
      "resto de 91 / 6 = 1\n"
     ]
    }
   ],
   "source": [
    "# Somar 9 com 9\n",
    "print(\"9 + 9 =\", 9+9)\n",
    "\n",
    "# Subtrair 194 de 257\n",
    "print(\"257 - 194 =\", 257-194)\n",
    "\n",
    "# Multiplicar 137 e 7\n",
    "print(\"137 x 7 =\", 137*7)\n",
    "\n",
    "# Exponenciar 2 à 8 potência\n",
    "print(\"2^8 = \", 2**9)\n",
    "\n",
    "# Dividir 91 por 6\n",
    "print(\"91 / 6 =\", 91/6)\n",
    "\n",
    "# Resto da divisão (módulo) de 91 por 6\n",
    "print(\"resto de 91 / 6 =\", 91%6)"
   ]
  },
  {
   "cell_type": "markdown",
   "metadata": {},
   "source": [
    "A ordem de avaliação dos elementos em uma expressão segue a mesma convenção utilizada na matemática. Elementos entre parênteses têm prioridade (precedência) durante a avaliação.\n",
    "\n",
    "Construa uma expressão contendo a equação: $$ \\frac{3+(3\\times5)}{2\\times(2+3)} $$"
   ]
  },
  {
   "cell_type": "code",
   "execution_count": 9,
   "metadata": {},
   "outputs": [
    {
     "data": {
      "text/plain": [
       "1.8"
      ]
     },
     "execution_count": 9,
     "metadata": {},
     "output_type": "execute_result"
    }
   ],
   "source": [
    "( 3+(3*5))/(2*(2+3))"
   ]
  },
  {
   "cell_type": "code",
   "execution_count": 10,
   "metadata": {},
   "outputs": [
    {
     "data": {
      "text/plain": [
       "1.8"
      ]
     },
     "execution_count": 10,
     "metadata": {},
     "output_type": "execute_result"
    }
   ],
   "source": [
    "# ou\n",
    "(3+3*5)/(2*(2+3))"
   ]
  },
  {
   "cell_type": "code",
   "execution_count": 11,
   "metadata": {},
   "outputs": [
    {
     "data": {
      "text/plain": [
       "2.5714285714285716"
      ]
     },
     "execution_count": 11,
     "metadata": {},
     "output_type": "execute_result"
    }
   ],
   "source": [
    "# mas não assim\n",
    "(3+3*5)/(2*2+3)"
   ]
  },
  {
   "cell_type": "markdown",
   "metadata": {},
   "source": [
    "> Alguns operadores podem também operar sobre outros tipos não-numéricos. Experimente por exemplo somar *strings*."
   ]
  },
  {
   "cell_type": "code",
   "execution_count": 12,
   "metadata": {},
   "outputs": [
    {
     "data": {
      "text/plain": [
       "'Hello World'"
      ]
     },
     "execution_count": 12,
     "metadata": {},
     "output_type": "execute_result"
    }
   ],
   "source": [
    "\"Hello\" + \" \" + \"World\""
   ]
  },
  {
   "cell_type": "markdown",
   "metadata": {},
   "source": [
    "### 3.2 Variáveis e atribuições"
   ]
  },
  {
   "cell_type": "markdown",
   "metadata": {},
   "source": [
    "Quando estamos programando é frequente precisarmos utilizar valores obtidos em etapas anteriores do código sem ter que executá-lo todo novamente. Linguagens de programação oferecem uma maneira bastante intuitiva para mantermos referência a estes valores anteriormente computados: variáveis.\n",
    "\n",
    "Para associar uma variável a um valor basta utilizar a **notação de atribuição**:\n",
    "\n",
    "`myVariable = \"Value\"`\n",
    "\n",
    "A partir daí, o valor se torna acessível utilizando o nome da variável."
   ]
  },
  {
   "cell_type": "markdown",
   "metadata": {
    "collapsed": true
   },
   "source": [
    "Atribua o resultado da equação $ \\bigg[ \\frac{3\\times(2+5)-20}{3} \\bigg] ^2$ à variável **`a`** e o resultado de $\\sqrt 2 + 1$ à variável **`b`**. \n",
    "\n",
    "Em seguida compute o resultado de $2a + b$. \n",
    "\n",
    "**obs**: $\\sqrt 2 = 2^{ \\frac{1}{2}}$"
   ]
  },
  {
   "cell_type": "code",
   "execution_count": 13,
   "metadata": {},
   "outputs": [
    {
     "data": {
      "text/plain": [
       "2.6364357845953172"
      ]
     },
     "execution_count": 13,
     "metadata": {},
     "output_type": "execute_result"
    }
   ],
   "source": [
    "# Resultado esperado: 2.6364357845953172\n",
    "a = ( (3*(2+5)-20)/3 )**2\n",
    "b = 2**(1/2)+1\n",
    "\n",
    "2*a + b"
   ]
  },
  {
   "cell_type": "markdown",
   "metadata": {},
   "source": [
    "> Na maioria das linguagens de programação o símbolo `=` é usado para **atribuição** de um valor (à direita) a uma variável (à direita). Se desejarmos comparar os resultados de duas expressões utilizamos o operador `==`, conhecido como **operador de igualdade**. O resultado deste operador sobre duas expressões é do tipo *booleano* (*True/False*), e informa se as duas expressões resultam ou não no mesmo valor."
   ]
  },
  {
   "cell_type": "code",
   "execution_count": 14,
   "metadata": {},
   "outputs": [
    {
     "data": {
      "text/plain": [
       "False"
      ]
     },
     "execution_count": 14,
     "metadata": {},
     "output_type": "execute_result"
    }
   ],
   "source": [
    "# 5 = 3 ? <- Verifico a validade da expressão (True se for válida, False caso contrário) \n",
    "\n",
    "5==3"
   ]
  },
  {
   "cell_type": "code",
   "execution_count": 15,
   "metadata": {},
   "outputs": [
    {
     "data": {
      "text/plain": [
       "True"
      ]
     },
     "execution_count": 15,
     "metadata": {},
     "output_type": "execute_result"
    }
   ],
   "source": [
    "# 5 = 3+2 ? <- Verifico a validade da expressão (True se for válida, False caso contrário) \n",
    "\n",
    "5==3+2"
   ]
  },
  {
   "cell_type": "code",
   "execution_count": 16,
   "metadata": {},
   "outputs": [
    {
     "ename": "SyntaxError",
     "evalue": "can't assign to literal (<ipython-input-16-4eb1d248ae21>, line 3)",
     "output_type": "error",
     "traceback": [
      "\u001b[0;36m  File \u001b[0;32m\"<ipython-input-16-4eb1d248ae21>\"\u001b[0;36m, line \u001b[0;32m3\u001b[0m\n\u001b[0;31m    5=3+2\u001b[0m\n\u001b[0m         ^\u001b[0m\n\u001b[0;31mSyntaxError\u001b[0m\u001b[0;31m:\u001b[0m can't assign to literal\n"
     ]
    }
   ],
   "source": [
    "# Se tentarmos usar o símbolo de atribuição para comparar valores cometeremos um erro:\n",
    "\n",
    "5=3+2"
   ]
  },
  {
   "cell_type": "markdown",
   "metadata": {},
   "source": [
    "> **Palavras reservadas**: Alguns nomes possuem significado especial para a linguagem de programação, e não devem ser usados como nomes de variáveis. No ambiente *Jupyter* palavras reservadas ou funções nativas são destacadas em verde, para que o programador evite utilizá-las. Veja a [lista](https://docs.python.org/3/reference/lexical_analysis.html#keywords) de palavras reservadas em *Python*."
   ]
  },
  {
   "cell_type": "markdown",
   "metadata": {},
   "source": [
    "##### Exercício 3.2.1 \n",
    "Verifique se as equações abaixo são corretas:\n",
    "\n",
    "a) $2 \\times 2.0 = 4$"
   ]
  },
  {
   "cell_type": "code",
   "execution_count": 17,
   "metadata": {},
   "outputs": [
    {
     "data": {
      "text/plain": [
       "True"
      ]
     },
     "execution_count": 17,
     "metadata": {},
     "output_type": "execute_result"
    }
   ],
   "source": [
    "2*2.0==4"
   ]
  },
  {
   "cell_type": "markdown",
   "metadata": {},
   "source": [
    "b) $2 \\times 3 = 5$"
   ]
  },
  {
   "cell_type": "code",
   "execution_count": 18,
   "metadata": {},
   "outputs": [
    {
     "data": {
      "text/plain": [
       "False"
      ]
     },
     "execution_count": 18,
     "metadata": {},
     "output_type": "execute_result"
    }
   ],
   "source": [
    "2*3 == 5"
   ]
  },
  {
   "cell_type": "markdown",
   "metadata": {},
   "source": [
    "c) $4a + 3 = b$, para $a=3$ e $b=15$ (primeiro declare as variáveis **a** e **b**)"
   ]
  },
  {
   "cell_type": "code",
   "execution_count": 19,
   "metadata": {},
   "outputs": [
    {
     "data": {
      "text/plain": [
       "True"
      ]
     },
     "execution_count": 19,
     "metadata": {},
     "output_type": "execute_result"
    }
   ],
   "source": [
    "a=3\n",
    "b=15\n",
    "\n",
    "4*a + 3 == b"
   ]
  },
  {
   "cell_type": "markdown",
   "metadata": {},
   "source": [
    "##### Exercício 3.2.2 \n",
    "Declare as variáveis $a=\\frac{2}{2}$ e $b = 1^2$. Em seguida descubra se elas possuem o mesmo **tipo** e **valor**."
   ]
  },
  {
   "cell_type": "code",
   "execution_count": 20,
   "metadata": {
    "collapsed": true
   },
   "outputs": [],
   "source": [
    "a=2/2\n",
    "b=1**2"
   ]
  },
  {
   "cell_type": "code",
   "execution_count": 21,
   "metadata": {},
   "outputs": [
    {
     "data": {
      "text/plain": [
       "True"
      ]
     },
     "execution_count": 21,
     "metadata": {},
     "output_type": "execute_result"
    }
   ],
   "source": [
    "# As variáveis possuem mesmo VALOR\n",
    "a==b"
   ]
  },
  {
   "cell_type": "code",
   "execution_count": 22,
   "metadata": {},
   "outputs": [
    {
     "data": {
      "text/plain": [
       "False"
      ]
     },
     "execution_count": 22,
     "metadata": {},
     "output_type": "execute_result"
    }
   ],
   "source": [
    "# Mas são de TIPOS diferentes!\n",
    "type(a) == type(b)"
   ]
  },
  {
   "cell_type": "markdown",
   "metadata": {},
   "source": [
    "Agora vamos voltar à calculadora bacteriana. Usando os princípios apresentados acima você pode finalmente construir o modelo computacional que estará por trás da calculadora. Execute seu modelo com valores diferentes para cada uma das variáveis e observe os resultados."
   ]
  },
  {
   "cell_type": "code",
   "execution_count": 23,
   "metadata": {},
   "outputs": [],
   "source": [
    "#    1. Declare as variáveis N_i, t e g;\n",
    "#    2. Associe o resultado do cálculo do tamanho populacional a uma variável-resposta N_t;\n",
    "#    3. Imprima N_t no console\n",
    "\n",
    "N_i = 1 # população inicial de bactérias: 1 bactéria colonizadora\n",
    "g = 20 # tempo de geração da espécie: 20 minutos\n",
    "\n",
    "t = 60 # tempo decorrido (minutos)\n",
    "\n",
    "# Modelo para o cálculo do tamanho populacional até o tempo t\n",
    "# obs: quando atribuímos um valor a uma variável o Jupyter não direciona o valor para a saída da célula...\n",
    "N_t = N_i * 2**(t/g)"
   ]
  },
  {
   "cell_type": "markdown",
   "metadata": {},
   "source": [
    "Agora `N_t` está armazenando o valor do cálculo do tamanho populacional até o tempo 60 minutos."
   ]
  },
  {
   "cell_type": "code",
   "execution_count": 24,
   "metadata": {},
   "outputs": [
    {
     "data": {
      "text/plain": [
       "8.0"
      ]
     },
     "execution_count": 24,
     "metadata": {},
     "output_type": "execute_result"
    }
   ],
   "source": [
    "# Para verificar o valor na variável precisamos chamá-la no fim da célula\n",
    "N_t"
   ]
  },
  {
   "cell_type": "markdown",
   "metadata": {},
   "source": [
    "Parabéns pela construção do seu primeiro programa! Agora que você já é capaz de representar equações matemáticas no seu computador poderá ir com o tempo aprimorando seus modelos, tornando-os cada vez mais complexos. Você deve ter percebido que o uso de variáveis torna seu modelo mais compreensivel e reutilizável, bastando modificar os valores associados às variáveis para computar novos resultados. Entretanto em muitos casos nosso problema requer que armazenemos valores de forma **estruturada**."
   ]
  },
  {
   "cell_type": "markdown",
   "metadata": {},
   "source": [
    "---"
   ]
  },
  {
   "cell_type": "markdown",
   "metadata": {},
   "source": [
    "## 4. Organizando e estruturando informações"
   ]
  },
  {
   "cell_type": "markdown",
   "metadata": {},
   "source": [
    "##### Guia de espécies Zoovert v0.1\n",
    "\n",
    "Você conseguiu um projeto REUNI com o professor de Zoologia de Vertebrados para a elaboração de material instrucional para a disciplina. Seu projeto é construir um guia para auxiliar na identificação de espécies nas saídas de campo, na forma de um aplicativo mobile. Você pretende que ele seja um guia colaborativo, o que significa que espécies coletadas em saídas de campo de turmas consecutivas serão automaticamente incluidas na base de dados do seu guia, para servir de apoio para as turmas seguintes. O guia funcionará da seguinte forma: Para cada localidade em que a saída pode ser feita (por exemplo FAL, Jardim Botânico, IBGE...) você manterá uma lista das espécies mais comuns que ocorrem ali. Assim, os alunos terão sugestões das espécies mais prováveis de serem encontradas na região, o que facilitará na atividade de identificação. Quando terminarem de identificar as espécies que coletaram (algumas serão novas), eles as incluirão no guia. Você já possui a lista de espécies produzida pela turma do primeiro semestre de 2017:"
   ]
  },
  {
   "cell_type": "markdown",
   "metadata": {},
   "source": [
    "| Localidade | Espécie| Nome comum | Contagem | Turma\n",
    "|--|--|\n",
    "| FAL | *Ameiva ameiva*| Calango | 4 | Zoovert 1/2017\n",
    "| FAL | *Phyllomedusa oreades* | Perereca-arborícola | 2 | Zoovert 1/2017\n",
    "| FAL | *Artibeus sp.* | Morcego | 4 | Zoovert 1/2017\n",
    "| FAL | *Athene cunicularia* | Coruja-buraqueira | 5 | Zoovert 1/2017\n",
    "| FAL | *Hypostomus sp.* | Peixe-cascudo | 7 | Zoovert 1/2017\n",
    "| FAL | *Cariama cristata* | Seriema | 4 | Zoovert 1/2017\n",
    "| JBB | *Ameiva ameiva* | Calango | 1 | Zoovert 1/2017\n",
    "| JBB | *Chrysocyon brachyurus* | Lobo-guará | 1 | Zoovert 1/2017\n",
    "| JBB | *Cariama cristata* | Seriema | 2 | Zoovert 1/2017\n",
    "| IBGE | *Bothrops neuwiedi*  | Jararaca | 1 | Zoovert 1/2017"
   ]
  },
  {
   "cell_type": "markdown",
   "metadata": {},
   "source": [
    "##### Desenvolvimento"
   ]
  },
  {
   "cell_type": "markdown",
   "metadata": {},
   "source": [
    "Este é um projeto complexo, mas você pode começar desenvolvendo as funcionalidades mais simples. Em primeiro lugar você precisará encontrar uma forma de representar suas **listas** de espécies no programa. Adivinhe só! O *Python* já tem uma estrutura pronta para te ajudar nisso!"
   ]
  },
  {
   "cell_type": "markdown",
   "metadata": {},
   "source": [
    "### 4.1 Listas\n",
    "Listas (tipo *list*) são estruturas de dados nativas em *Python* que armazenam um conjunto de valores que podem ter tipos diferentes. A ordem dos valores armazenados na lista permanece a mesma em que foram inseridos.\n",
    "* Criar uma lista: Insira valores separados entre si por vírgulas entre colchetes: `[v1,v2,v3]`;\n",
    "* Acessar um elemento dentro da lista: Use a notação de **indexação**: `myList[i]`, sendo `i` o índice do elemento que queremos acessar na lista referenciada pela variável `myList`;\n",
    "> **Indexação**: Cada elemento dentro de uma lista *Python* é associado a um índice numérico, que vai de `0` a `n-1`, sendo `n` o número de elementos na lista. Construa e atribua à variável `especies` uma lista contendo os nomes de suas três espécies favoritas na lista de espécies da turma de Zoovert 1/2017. Em seguida, na mesma célula, acesse o segundo elemento desta lista."
   ]
  },
  {
   "cell_type": "code",
   "execution_count": 25,
   "metadata": {
    "collapsed": true
   },
   "outputs": [],
   "source": [
    "especies = [\"Phyllomedusa oreades\", \"Chrysocyon brachyurus\", \"Hypostomus sp.\"]"
   ]
  },
  {
   "cell_type": "markdown",
   "metadata": {},
   "source": [
    "Sublistas podem ser obtidas a partir de listas através da notação de ***slicing***. Para obter um *slice* (pedaço) de uma lista utilize a notação de indexação, trocando o `i` entre colchetes por dois índices que simbolizam os elementos de início e fim (não-inclusivo) separados por ponto-e-vírgula: `[i:j]`. Obtenha uma sublista da lista `especies` contendo apenas as duas primeiras espécies. "
   ]
  },
  {
   "cell_type": "code",
   "execution_count": 26,
   "metadata": {},
   "outputs": [
    {
     "data": {
      "text/plain": [
       "['Phyllomedusa oreades', 'Chrysocyon brachyurus']"
      ]
     },
     "execution_count": 26,
     "metadata": {},
     "output_type": "execute_result"
    }
   ],
   "source": [
    "especies[0:2]"
   ]
  },
  {
   "cell_type": "code",
   "execution_count": 27,
   "metadata": {},
   "outputs": [
    {
     "data": {
      "text/plain": [
       "['Phyllomedusa oreades', 'Chrysocyon brachyurus']"
      ]
     },
     "execution_count": 27,
     "metadata": {},
     "output_type": "execute_result"
    }
   ],
   "source": [
    "# ou \n",
    "especies[:2] # Se não colocarmos um número antes de : o Python considera que partiremos do índice zero"
   ]
  },
  {
   "cell_type": "markdown",
   "metadata": {},
   "source": [
    "Listas podem ser geradas em tempo real a partir da função `list`, usando por exemplo elementos retornados por outras funções como entrada (*input*)."
   ]
  },
  {
   "cell_type": "markdown",
   "metadata": {},
   "source": [
    "> A função **`range`** gera uma sequência de números que podem ser utilizados, por exemplo, para a construção de uma lista. Tente criar uma lista de dez números (0 até 9). Para isso chame a função `range` utilizando como argumentos (input) o número de elementos que devem ser gerados. Em seguida utilize a saída da função `range` como entrada para a função `list`. Se precisar, consulte a documentação das funções com o atalho `shift + tab` (o cursor precisa estar entre os parênteses da chamada da função)."
   ]
  },
  {
   "cell_type": "code",
   "execution_count": 28,
   "metadata": {},
   "outputs": [
    {
     "data": {
      "text/plain": [
       "[0, 1, 2, 3, 4, 5, 6, 7, 8, 9]"
      ]
     },
     "execution_count": 28,
     "metadata": {},
     "output_type": "execute_result"
    }
   ],
   "source": [
    "# Aqui usamos ENCADEAMENTO de funções. Uma função é chamada usando como input o resultado (output) de outra\n",
    "\n",
    "# Primeiro o interpretador Python avalia o resultado de range(10)\n",
    "# Em seguida ele passa este resultado como input para a função list(), que transforma uma sequência em uma lista\n",
    "\n",
    "list( range(10) )"
   ]
  },
  {
   "cell_type": "markdown",
   "metadata": {},
   "source": [
    "Outras funções nativas de *Python* permitem manipular listas facilmente. Experimente as funções abaixo.\n",
    "* `len`: retorna o tamanho de uma lista;\n",
    "* `reversed`: retorna uma cópia da lista com os elementos em ordem invertida;\n",
    "* `max` e `min`: retorna o maior e menor valor dentro da lista, respectivamente;\n"
   ]
  },
  {
   "cell_type": "code",
   "execution_count": 29,
   "metadata": {},
   "outputs": [
    {
     "data": {
      "text/plain": [
       "['Phyllomedusa oreades', 'Chrysocyon brachyurus', 'Hypostomus sp.']"
      ]
     },
     "execution_count": 29,
     "metadata": {},
     "output_type": "execute_result"
    }
   ],
   "source": [
    "especies"
   ]
  },
  {
   "cell_type": "code",
   "execution_count": 30,
   "metadata": {},
   "outputs": [
    {
     "data": {
      "text/plain": [
       "3"
      ]
     },
     "execution_count": 30,
     "metadata": {},
     "output_type": "execute_result"
    }
   ],
   "source": [
    "# Tamanho (ou número de elementos) da lista\n",
    "len(especies)"
   ]
  },
  {
   "cell_type": "code",
   "execution_count": 31,
   "metadata": {},
   "outputs": [
    {
     "data": {
      "text/plain": [
       "['Hypostomus sp.', 'Chrysocyon brachyurus', 'Phyllomedusa oreades']"
      ]
     },
     "execution_count": 31,
     "metadata": {},
     "output_type": "execute_result"
    }
   ],
   "source": [
    "# Lista de espécies em ordem inversa\n",
    "list(reversed(especies))"
   ]
  },
  {
   "cell_type": "code",
   "execution_count": 32,
   "metadata": {},
   "outputs": [
    {
     "name": "stdout",
     "output_type": "stream",
     "text": [
      "Máximo: Phyllomedusa oreades\n",
      "Mínimo: Chrysocyon brachyurus\n"
     ]
    }
   ],
   "source": [
    "# Máximo e mínimo (por ordem alfabética no caso de uma lista com strings)\n",
    "\n",
    "print(\"Máximo: \"+max(especies)) # Último em ordem alfabética\n",
    "print(\"Mínimo: \"+min(especies)) # Primeiro em ordem alfabética"
   ]
  },
  {
   "cell_type": "markdown",
   "metadata": {},
   "source": [
    "O **operador `in`** é bastante útil quando estamos trabalhando com listas. A **expressão** na forma:\n",
    "\n",
    "`elemento` **`in`** `lista` \n",
    "\n",
    "retorna *True* se o elemento de fato existe e *False* caso contrário."
   ]
  },
  {
   "cell_type": "markdown",
   "metadata": {},
   "source": [
    "Verifique se 'Bothrops neuwiedi' está dentre suas espécies favoritas. "
   ]
  },
  {
   "cell_type": "code",
   "execution_count": 33,
   "metadata": {},
   "outputs": [
    {
     "data": {
      "text/plain": [
       "False"
      ]
     },
     "execution_count": 33,
     "metadata": {},
     "output_type": "execute_result"
    }
   ],
   "source": [
    "# Bothrops neuwiedi (jararaca) não está dentre minhas espécies favoritas\n",
    "\"Bothrops neuwiedi\" in especies"
   ]
  },
  {
   "cell_type": "code",
   "execution_count": 34,
   "metadata": {},
   "outputs": [
    {
     "data": {
      "text/plain": [
       "True"
      ]
     },
     "execution_count": 34,
     "metadata": {},
     "output_type": "execute_result"
    }
   ],
   "source": [
    "# Mas Chrysocyon brachyurus (lobo-guará) está\n",
    "\"Chrysocyon brachyurus\" in especies"
   ]
  },
  {
   "cell_type": "markdown",
   "metadata": {},
   "source": [
    "O **operador +** possui um significado especial quando se trata de listas. Ele permite criar uma nova lista usando os elementos da lista anterior e o novo elemento inserido ao final. \n",
    "\n",
    "**Obs:** Ambos os valores operados devem ser do tipo lista!"
   ]
  },
  {
   "cell_type": "markdown",
   "metadata": {},
   "source": [
    "Adicione uma nova espécie à lista `especies`. O que acontece se você executar este comando repetidamente? Como você poderia resolver este problema usando *slicing*?"
   ]
  },
  {
   "cell_type": "code",
   "execution_count": 36,
   "metadata": {},
   "outputs": [
    {
     "ename": "TypeError",
     "evalue": "can only concatenate list (not \"str\") to list",
     "output_type": "error",
     "traceback": [
      "\u001b[0;31m---------------------------------------------------------------------------\u001b[0m",
      "\u001b[0;31mTypeError\u001b[0m                                 Traceback (most recent call last)",
      "\u001b[0;32m<ipython-input-36-6d64ac826ceb>\u001b[0m in \u001b[0;36m<module>\u001b[0;34m()\u001b[0m\n\u001b[1;32m      1\u001b[0m \u001b[0;31m# Se tentarmos somar uma string a uma lista cometeremos um erro\u001b[0m\u001b[0;34m\u001b[0m\u001b[0;34m\u001b[0m\u001b[0m\n\u001b[0;32m----> 2\u001b[0;31m \u001b[0mespecies\u001b[0m \u001b[0;34m+\u001b[0m \u001b[0;34m\"Athene cunicularia\"\u001b[0m\u001b[0;34m\u001b[0m\u001b[0m\n\u001b[0m",
      "\u001b[0;31mTypeError\u001b[0m: can only concatenate list (not \"str\") to list"
     ]
    }
   ],
   "source": [
    "# Se tentarmos somar uma string a uma lista cometeremos um erro\n",
    "especies + \"Athene cunicularia\""
   ]
  },
  {
   "cell_type": "code",
   "execution_count": 37,
   "metadata": {},
   "outputs": [
    {
     "data": {
      "text/plain": [
       "['Phyllomedusa oreades',\n",
       " 'Chrysocyon brachyurus',\n",
       " 'Hypostomus sp.',\n",
       " 'Athene cunicularia']"
      ]
     },
     "execution_count": 37,
     "metadata": {},
     "output_type": "execute_result"
    }
   ],
   "source": [
    "# Só podemos operar uma lista com outra lista!\n",
    "# Para adicionar um novo elemento à lista transformamos o elemento a ser adicionado em uma lista de 1 item:\n",
    "\n",
    "especies + [\"Athene cunicularia\"]"
   ]
  },
  {
   "cell_type": "code",
   "execution_count": 38,
   "metadata": {},
   "outputs": [
    {
     "data": {
      "text/plain": [
       "['Phyllomedusa oreades', 'Chrysocyon brachyurus', 'Hypostomus sp.']"
      ]
     },
     "execution_count": 38,
     "metadata": {},
     "output_type": "execute_result"
    }
   ],
   "source": [
    "# Mas por que a lista não foi atualizada?\n",
    "especies"
   ]
  },
  {
   "cell_type": "code",
   "execution_count": 39,
   "metadata": {
    "collapsed": true
   },
   "outputs": [],
   "source": [
    "# Porque não atribuímos o resultado da soma a nenhuma variável. Para isso podemos fazer:\n",
    "especies = especies + [\"Athene cunicularia\"]"
   ]
  },
  {
   "cell_type": "code",
   "execution_count": 40,
   "metadata": {},
   "outputs": [
    {
     "data": {
      "text/plain": [
       "['Phyllomedusa oreades',\n",
       " 'Chrysocyon brachyurus',\n",
       " 'Hypostomus sp.',\n",
       " 'Athene cunicularia']"
      ]
     },
     "execution_count": 40,
     "metadata": {},
     "output_type": "execute_result"
    }
   ],
   "source": [
    "# E agora sim a variável especies referencia a lista atualizada:\n",
    "especies"
   ]
  },
  {
   "cell_type": "code",
   "execution_count": 41,
   "metadata": {
    "collapsed": true
   },
   "outputs": [],
   "source": [
    "# E se executarmos de novo a expressão?\n",
    "especies = especies + [\"Athene cunicularia\"]"
   ]
  },
  {
   "cell_type": "code",
   "execution_count": 42,
   "metadata": {},
   "outputs": [
    {
     "data": {
      "text/plain": [
       "['Phyllomedusa oreades',\n",
       " 'Chrysocyon brachyurus',\n",
       " 'Hypostomus sp.',\n",
       " 'Athene cunicularia',\n",
       " 'Athene cunicularia']"
      ]
     },
     "execution_count": 42,
     "metadata": {},
     "output_type": "execute_result"
    }
   ],
   "source": [
    "# Athene cunicularia foi adicionada de novo, e agora está repetida!\n",
    "especies"
   ]
  },
  {
   "cell_type": "code",
   "execution_count": 43,
   "metadata": {
    "collapsed": true
   },
   "outputs": [],
   "source": [
    "# neste caso podemos corrigir esta operação com slicing: \n",
    "#   selecionaremos apenas o três primeiros itens da lista\n",
    "#   em seguida somaremos 'Athene cunicularia'\n",
    "\n",
    "especies = especies[:3] + [\"Athene cunicularia\"]"
   ]
  },
  {
   "cell_type": "code",
   "execution_count": 44,
   "metadata": {},
   "outputs": [
    {
     "data": {
      "text/plain": [
       "['Phyllomedusa oreades',\n",
       " 'Chrysocyon brachyurus',\n",
       " 'Hypostomus sp.',\n",
       " 'Athene cunicularia']"
      ]
     },
     "execution_count": 44,
     "metadata": {},
     "output_type": "execute_result"
    }
   ],
   "source": [
    "especies"
   ]
  },
  {
   "cell_type": "markdown",
   "metadata": {},
   "source": [
    "Agora que você já sabe um pouco sobre listas, construa três listas `fal_especies`, `jbb_especies` e `ibge_especies` armazenando as espécies que ocorrem nas respectivas localidades."
   ]
  },
  {
   "cell_type": "code",
   "execution_count": 45,
   "metadata": {
    "collapsed": true
   },
   "outputs": [],
   "source": [
    "# Podemos quebrar linhas construindo a lista para tornar o código mais legível\n",
    "fal_especies = [\"Ameiva ameiva\", \"Phyllomedusa oreades\", \"Artibeus sp.\", \n",
    "                \"Athene cunicularia\", \"Hypostomus sp.\", \"Cariama cristata\"]\n",
    "\n",
    "jbb_especies = [\"Ameiva ameiva\", \"Chrysocyon brachyurus\", \"Cariama cristata\"]\n",
    "ibge_especies = [\"Bothrops neuwiedi\"]"
   ]
  },
  {
   "cell_type": "markdown",
   "metadata": {},
   "source": [
    "Ótimo! Já temos as listas de espécies para cada localidade. Porém as listas para cada localidade estão armazenadas em estruturas separadas. Além disso estas listas por si só não nos permitem armazenar informações sobre cada espécie, por exemplo o número de registros de cada. Dessa forma não podemos nem saber quais são as mais comuns. Para incluir informações adicionais sobre cada espécie e armazená-las em uma estrutura comum recorra aos **dicionários**."
   ]
  },
  {
   "cell_type": "markdown",
   "metadata": {},
   "source": [
    "### 4.2 Dicionários"
   ]
  },
  {
   "cell_type": "markdown",
   "metadata": {
    "collapsed": true
   },
   "source": [
    "Dicionários (tipo dict), assim como listas, são estruturas de dados que permitem armazenar conjuntos de valores. A principal diferença é que os valores são **indexados explicitamente** e não são ordenados. As chaves não precisam ser necessariamente numéricas. Podem ser, por exemplo, strings. Dicionários são também conhecidos como *mapas* ou *índices*."
   ]
  },
  {
   "cell_type": "markdown",
   "metadata": {},
   "source": [
    "#### Como criar um dicionário? \n",
    "  * Forma 1: Insira conjuntos de pares chave-valor (*key*,*value*) entre chaves: `{key1: value1, key2: value2}`;\n",
    "  * Forma 2: Utilize a função `dict` passando como *input* listas de tuplas `[(key1, value1), (key2,value2)]`;\n",
    " \n",
    "#### Como acessar um elemento em um dicionário?\n",
    "Use a notação de indexação: `myDict[k]`, sendo `k` o índice (chave) do elemento que queremos acessar"
   ]
  },
  {
   "cell_type": "markdown",
   "metadata": {},
   "source": [
    "Crie um dicionário chamado `dicionario_especies` contendo pares chave-valor. Cada par contém como chave o nome de uma localidade e como valor uma lista das espécies que ali ocorrem."
   ]
  },
  {
   "cell_type": "code",
   "execution_count": 46,
   "metadata": {
    "collapsed": true
   },
   "outputs": [],
   "source": [
    "# Cada par chave:valor em um dicionário é separado por uma vírgula\n",
    "#   no caso abaixo temos três pares\n",
    "\n",
    "dicionario_especies = { 'fal':fal_especies, 'jbb':jbb_especies, 'ibge':ibge_especies}"
   ]
  },
  {
   "cell_type": "code",
   "execution_count": 47,
   "metadata": {
    "collapsed": true
   },
   "outputs": [],
   "source": [
    "# para melhorar a legibilidade do código podemos também quebrar linhas\n",
    "\n",
    "dicionario_especies = {\n",
    "    'fal': fal_especies,\n",
    "    'jbb': jbb_especies,\n",
    "    'ibge': ibge_especies\n",
    "}"
   ]
  },
  {
   "cell_type": "markdown",
   "metadata": {},
   "source": [
    "Perceba que nas células acima usamos as listas associadas a cada uma das variáveis `fal_especies`, `jbb_especies` e `ibge_especies` como valores para cada chave! As chaves mapeiam para os **valores** referenciados pelas variáveis, e não para as variáveis em si."
   ]
  },
  {
   "cell_type": "code",
   "execution_count": 48,
   "metadata": {},
   "outputs": [
    {
     "data": {
      "text/plain": [
       "{'fal': ['Ameiva ameiva',\n",
       "  'Phyllomedusa oreades',\n",
       "  'Artibeus sp.',\n",
       "  'Athene cunicularia',\n",
       "  'Hypostomus sp.',\n",
       "  'Cariama cristata'],\n",
       " 'ibge': ['Bothrops neuwiedi'],\n",
       " 'jbb': ['Ameiva ameiva', 'Chrysocyon brachyurus', 'Cariama cristata']}"
      ]
     },
     "execution_count": 48,
     "metadata": {},
     "output_type": "execute_result"
    }
   ],
   "source": [
    "dicionario_especies"
   ]
  },
  {
   "cell_type": "markdown",
   "metadata": {},
   "source": [
    "Vejamos uma lista com o conjunto de **chaves** no dicionário:"
   ]
  },
  {
   "cell_type": "code",
   "execution_count": 49,
   "metadata": {},
   "outputs": [
    {
     "data": {
      "text/plain": [
       "['fal', 'jbb', 'ibge']"
      ]
     },
     "execution_count": 49,
     "metadata": {},
     "output_type": "execute_result"
    }
   ],
   "source": [
    "list( dicionario_especies.keys() )"
   ]
  },
  {
   "cell_type": "markdown",
   "metadata": {},
   "source": [
    "e agora o conjunto de **valores**:"
   ]
  },
  {
   "cell_type": "code",
   "execution_count": 50,
   "metadata": {},
   "outputs": [
    {
     "data": {
      "text/plain": [
       "[['Ameiva ameiva',\n",
       "  'Phyllomedusa oreades',\n",
       "  'Artibeus sp.',\n",
       "  'Athene cunicularia',\n",
       "  'Hypostomus sp.',\n",
       "  'Cariama cristata'],\n",
       " ['Ameiva ameiva', 'Chrysocyon brachyurus', 'Cariama cristata'],\n",
       " ['Bothrops neuwiedi']]"
      ]
     },
     "execution_count": 50,
     "metadata": {},
     "output_type": "execute_result"
    }
   ],
   "source": [
    "list( dicionario_especies.values() )"
   ]
  },
  {
   "cell_type": "markdown",
   "metadata": {},
   "source": [
    "E se você quisesse armazenar **atributos** das espécies além de seus nomes? Você poderia construir um **dicionário de dicionários**! Neste caso cada chave estará associada ao valor que por sua vez é um dicionário. Veja o exemplo abaixo."
   ]
  },
  {
   "cell_type": "code",
   "execution_count": 51,
   "metadata": {
    "collapsed": true
   },
   "outputs": [],
   "source": [
    "dict_of_dicts = {\n",
    "    'key1': {'attr1': 1, 'attr2': True},\n",
    "    'key2': {'attr1': 4, 'attr2': False, 'attr3': \"extra\"},\n",
    "    'key3': {'attr1': 7, 'attr2': False}\n",
    "}"
   ]
  },
  {
   "cell_type": "markdown",
   "metadata": {},
   "source": [
    "Os atributos da chave `'key1'` são:"
   ]
  },
  {
   "cell_type": "code",
   "execution_count": 52,
   "metadata": {},
   "outputs": [
    {
     "data": {
      "text/plain": [
       "{'attr1': 1, 'attr2': True}"
      ]
     },
     "execution_count": 52,
     "metadata": {},
     "output_type": "execute_result"
    }
   ],
   "source": [
    "dict_of_dicts['key1']"
   ]
  },
  {
   "cell_type": "markdown",
   "metadata": {},
   "source": [
    "Para acessar o atributo 1 (`attr1`) da chave 2 (`key2`) por exemplo, a sintaxe é :"
   ]
  },
  {
   "cell_type": "code",
   "execution_count": 53,
   "metadata": {},
   "outputs": [
    {
     "data": {
      "text/plain": [
       "4"
      ]
     },
     "execution_count": 53,
     "metadata": {},
     "output_type": "execute_result"
    }
   ],
   "source": [
    "dict_of_dicts['key2']['attr1']"
   ]
  },
  {
   "cell_type": "markdown",
   "metadata": {},
   "source": [
    "Conhecendo listas e dicionários você já consegue estruturar em seu programa o conteúdo da lista de espécies da turma de Zoovert! Para decidir como estruturar os dados, precisamos primeiro pensar em como o usuário acessará as informações relevantes. Como a aplicação será um guia de coleta, queremos que o usuário informe sua localidade e a partir daí receba uma lista de espécies que potencialmente encontrará ali. Junto com os nomes da espécies, o usuário deve obter informações adicionais sobre cada espécie. Em seguida explore um pouco os tipos de consulta que você pode fazer com esta estrutura. Tente também descobrir como inserier espécies novas neste dicionário.\n",
    "\n",
    "**Dica**: Crie um dicionário de dicionários de dicionários chamado `dicionario_especies` para estruturar os dados."
   ]
  },
  {
   "cell_type": "code",
   "execution_count": 54,
   "metadata": {
    "collapsed": true
   },
   "outputs": [],
   "source": [
    "# Construir dicionários aninhados pode ser um pouco confuso... vamos por partes.\n",
    "# Primeiro vamos adicionar as chaves do primeiro nível: cada chave representando cada localidad\n",
    "#  os valores de cada chave também serão dicionários {}\n",
    "dicionario_especies = {\n",
    "    'fal': {},\n",
    "    'jbb': {},\n",
    "    'ibge': {}\n",
    "}"
   ]
  },
  {
   "cell_type": "code",
   "execution_count": 55,
   "metadata": {
    "collapsed": true
   },
   "outputs": [],
   "source": [
    "# agora que já temos o primeiro nível vamos ao segundo nível, onde estão os nomes das espécies:\n",
    "\n",
    "dicionario_especies = {\n",
    "    'fal': {\n",
    "        'Ameiva ameiva': {},\n",
    "        'Phyllomedusa oreades': {},\n",
    "        'Artibeus sp.': {},\n",
    "        'Athene cunicularia': {},\n",
    "        'Hypostomus sp.': {},\n",
    "        'Cariama cristata': {}\n",
    "    },\n",
    "    \n",
    "    'jbb': {\n",
    "        'Ameiva ameiva': {},\n",
    "        'Chrysocyon brachyurus': {},\n",
    "        'Cariama cristata': {}\n",
    "    },\n",
    "    \n",
    "    'ibge': {\n",
    "        'Bothrops neuwiedi':{}\n",
    "    }\n",
    "}"
   ]
  },
  {
   "cell_type": "code",
   "execution_count": 56,
   "metadata": {
    "collapsed": true
   },
   "outputs": [],
   "source": [
    "# finalmente, vamos adicionar os atributos (nome comum, contagem) associados a cada espécie\n",
    "\n",
    "dicionario_especies = {\n",
    "    'fal': {\n",
    "        'Ameiva ameiva': {\n",
    "            'nome comum':'Calango',\n",
    "            'contagem':4\n",
    "        },\n",
    "        'Phyllomedusa oreades': {\n",
    "            'nome comum':'Perereca-arborícola',\n",
    "            'contagem':2\n",
    "        },\n",
    "        'Artibeus sp.': {\n",
    "            'nome comum':'Morcego',\n",
    "            'contagem':4\n",
    "        },\n",
    "        'Athene cunicularia': {\n",
    "            'nome comum': 'Coruja-buraqueira',\n",
    "            'contagem': 5\n",
    "        },\n",
    "        'Hypostomus sp.': {\n",
    "            'nome comum': \"Peixe-cascudo\",\n",
    "            'contagem': 7\n",
    "        },\n",
    "        'Cariama cristata': {\n",
    "            'nome comum': \"Seriema\",\n",
    "            'contagem':4\n",
    "        }\n",
    "    },\n",
    "    \n",
    "    'jbb': {\n",
    "        'Ameiva ameiva': {\n",
    "            'nome comum': \"Calango\",\n",
    "            'contagem': 1\n",
    "        },\n",
    "        'Chrysocyon brachyurus': {\n",
    "            'nome comum': \"Lobo-guará\",\n",
    "            'contagem':1\n",
    "        },\n",
    "        'Cariama cristata': {\n",
    "            'nome comum': \"Seriema\",\n",
    "            'contagem':2\n",
    "        }\n",
    "    },\n",
    "    \n",
    "    'ibge': {\n",
    "        'Bothrops neuwiedi':{\n",
    "            'nome comum':'Jararaca',\n",
    "            'contagem':1\n",
    "        }\n",
    "    }\n",
    "}"
   ]
  },
  {
   "cell_type": "markdown",
   "metadata": {},
   "source": [
    "Agora, usando a estrutura de dados que você acabou de construir responda:"
   ]
  },
  {
   "cell_type": "markdown",
   "metadata": {},
   "source": [
    "* Quais espécies foram registradas na FAL?"
   ]
  },
  {
   "cell_type": "code",
   "execution_count": 57,
   "metadata": {},
   "outputs": [
    {
     "data": {
      "text/plain": [
       "['Ameiva ameiva',\n",
       " 'Phyllomedusa oreades',\n",
       " 'Artibeus sp.',\n",
       " 'Athene cunicularia',\n",
       " 'Hypostomus sp.',\n",
       " 'Cariama cristata']"
      ]
     },
     "execution_count": 57,
     "metadata": {},
     "output_type": "execute_result"
    }
   ],
   "source": [
    "# queremos as chaves no segundo nível (no dicionário chaveado por 'fal')\n",
    "\n",
    "list( dicionario_especies['fal'].keys() )"
   ]
  },
  {
   "cell_type": "markdown",
   "metadata": {},
   "source": [
    "* Quantas Athene cunicularia foram registradas na FAL?"
   ]
  },
  {
   "cell_type": "code",
   "execution_count": 58,
   "metadata": {},
   "outputs": [
    {
     "data": {
      "text/plain": [
       "5"
      ]
     },
     "execution_count": 58,
     "metadata": {},
     "output_type": "execute_result"
    }
   ],
   "source": [
    "dicionario_especies['fal']['Athene cunicularia']['contagem']"
   ]
  },
  {
   "cell_type": "markdown",
   "metadata": {},
   "source": [
    "* Qual o nome vulgar do Chrysocyon brachyurus (que foi registrado no JBB)?"
   ]
  },
  {
   "cell_type": "code",
   "execution_count": 59,
   "metadata": {},
   "outputs": [
    {
     "data": {
      "text/plain": [
       "'Lobo-guará'"
      ]
     },
     "execution_count": 59,
     "metadata": {},
     "output_type": "execute_result"
    }
   ],
   "source": [
    "dicionario_especies['jbb']['Chrysocyon brachyurus']['nome comum']"
   ]
  },
  {
   "cell_type": "markdown",
   "metadata": {},
   "source": [
    "Que legal! Você já conhece algumas das estruturas mais fundamentais da programação! Adicionando um pouco de *lógica* e *automação* seus programas certamente começarão a ficar mais interessantes! É isso que veremos nas próximas seções."
   ]
  },
  {
   "cell_type": "markdown",
   "metadata": {},
   "source": [
    "---"
   ]
  },
  {
   "cell_type": "markdown",
   "metadata": {},
   "source": [
    "## 5. Adicionando lógica aos seus programas"
   ]
  },
  {
   "cell_type": "markdown",
   "metadata": {},
   "source": [
    "##### Situação\n",
    "\n",
    "Seu orientador está ministrando uma disciplina e te pediu ajuda para gerenciar as notas dos alunos. Você deverá construir uma planilha com as notas das três provas (com pesos  de 20% para as duas primeiras e 60% para a terceira), média final e menção para cada um dos 30 alunos. A atribuição de menções segue a seguinte regra:\n",
    "\n",
    "$\n",
    "se  \\quad média \\ final \\geq 9 : menção = SS \\\\\n",
    "se \\quad 7 \\leq média \\ final < 9 : menção = MS \\\\ \n",
    "se \\quad 5 \\leq média \\ final < 7 : menção = MM \\\\ \n",
    "se \\quad 3 \\leq média \\ final < 5 : menção = MI \\\\ \n",
    "se \\quad média \\ final < 3 : menção = II \\\\ \n",
    "$\n",
    "\n",
    "Atribuir manualmente menções para cada aluno seria uma trabalheira se você não tivesse feito um minicurso de programação na semabio! =]"
   ]
  },
  {
   "cell_type": "markdown",
   "metadata": {},
   "source": [
    "##### Desenvolvimento\n",
    "\n",
    "Para resolver este problema vamos subdividi-lo em subproblemas e tentar resolvê-los individualmente.\n",
    "1. Calcular a média final do aluno baseado nas notas das provas `p1`, `p2` e `p3`;\n",
    "2. Usar a média final do aluno para obter a menção;\n",
    "3. Aplicar o cálculo da menção para todos os alunos da disciplina."
   ]
  },
  {
   "cell_type": "markdown",
   "metadata": {},
   "source": [
    "Com o que você aprendeu até agora você já consegue resolver o subproblema 1. Calcule a média final do aluno abaixo."
   ]
  },
  {
   "cell_type": "code",
   "execution_count": 60,
   "metadata": {
    "collapsed": true
   },
   "outputs": [],
   "source": [
    "# notas das provas p1,p2,p3 em escala de 0-10\n",
    "p1 = 3\n",
    "p2 = 3.5\n",
    "p3 = 6"
   ]
  },
  {
   "cell_type": "code",
   "execution_count": 61,
   "metadata": {},
   "outputs": [],
   "source": [
    "# TODO: construir uma expressão para o cálculo da média final\n",
    "mFinal = p1*0.2 + p2*0.2 + p3*0.6 "
   ]
  },
  {
   "cell_type": "markdown",
   "metadata": {},
   "source": [
    "> **obs: **O marcador *TODO* é utilizado em comentários para indicar alguma funcionalidade que precisa ser implementada pelo programador."
   ]
  },
  {
   "cell_type": "markdown",
   "metadata": {},
   "source": [
    "Você conseguiu obter a média final do aluno. Mas como tranformar a média em menção? Expressões condicionais ao resgate!"
   ]
  },
  {
   "cell_type": "markdown",
   "metadata": {},
   "source": [
    "### 5.1 Expressões condicionais"
   ]
  },
  {
   "cell_type": "markdown",
   "metadata": {},
   "source": [
    "Expressões condicionais são estruturas de decisão fundamentais nas linguagens de programação que permitem que um programa altere seu comportamento dependendo do estado em que se encontra. Elas se baseiam na verificação de uma determinada **condição**, uma expressão construída compondo variáveis e valores com **operadores lógicos** que pode ser avaliada como verdadeira (*True*) ou falsa (*False*). Os operadores lógicos `and`, `or`, `not` podem ser combinados para construir estruturas de decisão mais complexas."
   ]
  },
  {
   "cell_type": "markdown",
   "metadata": {},
   "source": [
    "Para executar um código dependendo de uma condição ter sido avaliada como verdadeira, utilizamos a construção básica:\n",
    "\n",
    "`if < condição >: < código a executar >`"
   ]
  },
  {
   "cell_type": "markdown",
   "metadata": {},
   "source": [
    "Veja o exemplo abaixo. Aqui a utilizaremos a condição de `a` ser maior que 10. Atribua valores diferentes a `a` e observe o que acontece quando `a < 10` e quando `a` > 10."
   ]
  },
  {
   "cell_type": "code",
   "execution_count": 62,
   "metadata": {},
   "outputs": [
    {
     "name": "stdout",
     "output_type": "stream",
     "text": [
      "Hello, World!\n"
     ]
    }
   ],
   "source": [
    "a = 20 # insira um valor\n",
    "if a > 10:\n",
    "    print(\"Hello, World!\")"
   ]
  },
  {
   "cell_type": "markdown",
   "metadata": {},
   "source": [
    "Normalmente é também desejável executar um pedaço de 'código alternativo' quando a condição é avaliada como falsa. Para isso usamos a palavra reservada `else`."
   ]
  },
  {
   "cell_type": "code",
   "execution_count": 63,
   "metadata": {},
   "outputs": [
    {
     "name": "stdout",
     "output_type": "stream",
     "text": [
      "Executo o código alternativo\n"
     ]
    }
   ],
   "source": [
    "a = 5 # insira um valor\n",
    "if a >= 10:\n",
    "    print(\"Hello, World!\")\n",
    "else:\n",
    "    print(\"Executo o código alternativo\")"
   ]
  },
  {
   "cell_type": "markdown",
   "metadata": {},
   "source": [
    "Complete o código abaixo de forma que ele informe se um aluno foi aprovado ou reprovado em uma determinada disciplina dependendo de sua média final (0-10). A nota mínima para aprovação é 5.\n",
    "\n",
    "**Obs**: O operador `>=` significa \"maior ou igual a\"."
   ]
  },
  {
   "cell_type": "code",
   "execution_count": 64,
   "metadata": {},
   "outputs": [
    {
     "name": "stdout",
     "output_type": "stream",
     "text": [
      "Insira a nota do aluno: 5.1\n",
      "Aprovado\n"
     ]
    }
   ],
   "source": [
    "notaAluno = float( input(\"Insira a nota do aluno: \") ) # a função input() atribui a entrada do usuário à variável\n",
    "\n",
    "if notaAluno >= 5:\n",
    "    print(\"Aprovado\")\n",
    "else:\n",
    "    print(\"Reprovado\")"
   ]
  },
  {
   "cell_type": "markdown",
   "metadata": {},
   "source": [
    "> **Indentação**. Você notou que na célula acima o código da função `print` nas linhas 4 e 6 está espaçado em 4 caracteres (ou 1 tab) da margem? Este espaçamento é conhecido como indentação, e indica quais linhas de código pertencem a um mesmo contexto, ou bloco. No caso acima, por exemplo, o `print` na linha 4 é executado caso a avaliação da linha 3 seja verdadeira, e sua indentação indica \"consequência\" da linha 3. Já o `print` na linha 6 é executado como \"consequência\" da linha 5. Em muitas linguagens de programação usamos esta convenção para manter nosso código mais organizado e legível. Em *Python*, entretanto, esta estruturação faz parte da linguagem e deve ser obrigatoriamente seguida. "
   ]
  },
  {
   "cell_type": "markdown",
   "metadata": {},
   "source": [
    "Perceba que seguir padrões de indentação facilita a compreensão do código especialmente em casos em que se encontra aninhado (em hierarquia), como é o caso da célula abaixo. Neste caso queremos testar mais de uma condição, e uma possível solução é aninhar expressões condicionais `if-else`. Veja como exemplo este questionário:"
   ]
  },
  {
   "cell_type": "code",
   "execution_count": 65,
   "metadata": {},
   "outputs": [
    {
     "name": "stdout",
     "output_type": "stream",
     "text": [
      "Qual nota você daria para este minicurso até agora? (0-5)3\n",
      "=]\n"
     ]
    }
   ],
   "source": [
    "nota = float( input(\"Qual nota você daria para este minicurso até agora? (0-5)\") )\n",
    "\n",
    "if nota >=5:\n",
    "    print(\"xD\")\n",
    "else:\n",
    "    if nota >= 4:\n",
    "        print(\"=D\")\n",
    "    else:   # entra no else se a nota for menor que 4\n",
    "        if nota >= 3:\n",
    "            print(\"=]\")\n",
    "        else:   # entra neste else se a nota for menor que 3\n",
    "            if nota >= 2:\n",
    "                print(\"=|\")\n",
    "            else: # entra neste else se a nota for menor que 2\n",
    "                if nota >= 1:\n",
    "                    print(\"=[\")\n",
    "                else: # entra neste else se a nota for menor que 1\n",
    "                    print(\"=`(\")"
   ]
  },
  {
   "cell_type": "markdown",
   "metadata": {},
   "source": [
    "Este código ficou meio confuso, com muitos níveis de indentação. Felizmente temos uma outra maneira mais clara de testar estas 5 condições. A palavra `elif` \"combina\" um `else` com um `if`:"
   ]
  },
  {
   "cell_type": "code",
   "execution_count": 66,
   "metadata": {},
   "outputs": [
    {
     "name": "stdout",
     "output_type": "stream",
     "text": [
      "Qual nota você daria para este minicurso até agora? (0-5)3\n",
      "=]\n"
     ]
    }
   ],
   "source": [
    "nota = float( input(\"Qual nota você daria para este minicurso até agora? (0-5)\") )\n",
    "\n",
    "if nota >=5:\n",
    "    print(\"xD\")\n",
    "    \n",
    "elif nota >= 4:\n",
    "    print(\"=D\")\n",
    "\n",
    "elif nota >= 3:\n",
    "    print(\"=]\")\n",
    "\n",
    "elif nota >= 2:\n",
    "    print(\"=|\")\n",
    "\n",
    "elif nota >= 1:\n",
    "    print(\"=[\")\n",
    "\n",
    "else:\n",
    "    print(\"=`(\")"
   ]
  },
  {
   "cell_type": "markdown",
   "metadata": {},
   "source": [
    "Agora você já consegue resolver o subproblema 2. Mãos à obra!"
   ]
  },
  {
   "cell_type": "code",
   "execution_count": 67,
   "metadata": {},
   "outputs": [
    {
     "data": {
      "text/plain": [
       "4.2"
      ]
     },
     "execution_count": 67,
     "metadata": {},
     "output_type": "execute_result"
    }
   ],
   "source": [
    "# obter o cálculo da média final baseado nas notas das três provas\n",
    "# teste também com outras combinações de notas!\n",
    "p1= 8 \n",
    "p2= 7\n",
    "p3= 2\n",
    "\n",
    "mFinal= p1*0.2 + p2*0.2 + p3*0.6\n",
    "\n",
    "mFinal"
   ]
  },
  {
   "cell_type": "code",
   "execution_count": 68,
   "metadata": {},
   "outputs": [
    {
     "name": "stdout",
     "output_type": "stream",
     "text": [
      "MI\n"
     ]
    }
   ],
   "source": [
    "# TODO: usar a média final do aluno para obter sua menção\n",
    "\n",
    "if mFinal >= 9:\n",
    "    print(\"SS\")\n",
    "elif mFinal >= 7:\n",
    "    print(\"MS\")\n",
    "elif mFinal >= 5:\n",
    "    print(\"MM\")\n",
    "elif mFinal >= 3:\n",
    "    print(\"MI\")\n",
    "else:\n",
    "    print(\"II\")"
   ]
  },
  {
   "cell_type": "markdown",
   "metadata": {},
   "source": [
    "Para resolver o subproblema 3 você poderia aplicar manualmente a estrutura condicional que acabou de construir para calcular as menções de todos os alunos da turma, um por um. Entretanto copiar e colar o mesmo código para cada um dos 30 alunos seria extremamente trabalhoso, além de originar um código enorme. Pior: e se você quisesse mudar os critérios para atribuição das menções? Teria que fazer a mesma mudança 30 vezes! \n",
    "\n",
    "Felizmente computadores são extremamente rápidos em tarefas bem definidas e repetitivas, e se enquadram muito bem para resolver este tipo de problema. Vamos aprender a inserir **automação** em nossos programas utilizando **estruturas de repetição**."
   ]
  },
  {
   "cell_type": "markdown",
   "metadata": {},
   "source": [
    "---"
   ]
  },
  {
   "cell_type": "markdown",
   "metadata": {},
   "source": [
    "## 6. Lidando com comandos repetitivos"
   ]
  },
  {
   "cell_type": "markdown",
   "metadata": {},
   "source": [
    "##### A computação te ajuda a não perder festas nos sábados!"
   ]
  },
  {
   "cell_type": "markdown",
   "metadata": {},
   "source": [
    "Você está cursando seu $4^o$ semestre, matriculado(a) em 6 disciplinas e ainda participa de várias atividades complementares na UnB, dentre elas seu projeto de IC. Justamente em uma semana em que você está com a agenda apertada seu professor de Biologia Molecular passou um exercício trabalhoso, que consiste em encontrar a sequência de RNA resultante da transcrição do gene A e depois os aminoácidos resultantes da tradução do RNA. O problema é que o gene é razoavelmente longo, considerando que se trata de um exercício. Eis a sequência da fita molde no sentido 3'->5' do gene A:\n",
    "\n",
    "`\n",
    "GATCCTCCATATACAACGGTATCTCCACCTCAGGTTTAGATCTCAACAACGGAACCATTGCCGACATGAGACAGTTAG\n",
    "GTATCGTCGAGAGTTACAAGCTAAAACGAGCAGTAGTCAGCTCTGCATCTGAAGCCGCTGAAGTTCTACTAAGGGTGG\n",
    "ATAACATCATCCGTGCAAGACCAAGAACCGCCAATAGACAACATATGTAACATATTTAGGATATACCTCGAAAATAAT\n",
    "AAACCGCCACACTGTCATTATTATAATTAGAAACAGAACGCAAAAATTATCCACTATATAATTCAAAGACGCGAAAAA\n",
    "AAAAGAACAACGCGTCATAGAACTTTTGGCAATTCGCGTCACAAATAAATTTTGGCAACTTATGTTTCCTCTTCGAGC\n",
    "AGTACTCGAGCCCTGTCTCAAGAATGTAATAATACCCATCGTAGGTATGGTTAAAGATAGCATCTCCACAACCTCAAA\n",
    "GCTCCTTGCCGAGAGTCGCCCTCCTTTGTCGAGTAATTTTCACTTTTCATATGAGAACTTATTTTCTTATTCTTTACT\n",
    "CTCACATCCTGTAGTGATTGACACTGCAACAGCCACCATCACTAGAAGAACAGAACAATTACTTAATAGAAAAATTAT\n",
    "ATCTTCCTCGAAACGATTTCCTGCTTCCAACATCTACGTATATCAAGAAGCATTCACTTACCATGACACAGCTTCAGA\n",
    "TTTCATTATTGCTGACAGCTACTATATCACTACTCCATCTAGTAGTGGCCACGCCCTATGAGGCATATCCTATCGGAA\n",
    "AACAATACCCCCCAGTGGCAAGAGTCAATGAATCGTTTACATTTCAAATTTCCAATGATACCTATAAATCGTCTGTAG\n",
    "ACAAGACAGCTCAAATAACATACAATTGCTTCGACTTACCGAGCTGGCTTTCGTTTGACTCTAGTTCTAGAACGTTCT\n",
    "CAGGTGAACCTTCTTCTGACTTACTATCTGATGCGAACACCACGTTGTATTTCAATGTAATACTCGAGGGTACGGACT\n",
    "CTGCCGACAGCACGTCTTTGAACAATACATACCAATTTGTTGTTACAAACCGTCCATCCATCTCGCTATCGTCAGATT\n",
    "TCAATCTATTGGCGTTGTTAAAAAACTATGGTTATACTAACGGCAAAAACGCTCTGAAACTAGATCCTAATGAAGTCT\n",
    "TCAACGTGACTTTTGACCGTTCAATGTTCACTAACGAAGAATCCATTGTGTCGTATTACGGACGTTCTCAGTTGTATA\n",
    "ATGCGCCGTTACCCAATTGGCTGTTCTTCGATTCTGGCGAGTTGAAGTTTACTGGGACGGCACCGGTGATAAACTCGG\n",
    "CGATTGCTCCAGAAACAAGCTACAGTTTTGTCATCATCGCTACAGACATTGAAGGATTTTCTGCCGTTGAGGTAGAAT\n",
    "TCGAATTAGTCATCGGGGCTCACCAGTTAACTACCTCTATTCAAAATAGTTTGATAATCAACGTTACTGACACAGGTA\n",
    "ACGTTTCATATGACTTACCTCTAAACTATGTTTATCTCGATGACGATCCTATTTCTTCTGATAAATTGGGTTCTATAA\n",
    "ACTTATTGGATGCTCCAGACTGGGTGGCATTAGATAATGCTACCATTTCCGGGTCTGTCCCAGATGAATTACTCGGTA\n",
    "AGAACTCCAATCCTGCCAATTTTTCTGTGTCCATTTATGATACTTATGGTGATGTGATTTATTTCAACTTCGAAGTTG\n",
    "TCTCCACAACGGATTTGTTTGCCATTAGTTCTCTTCCCAATATTAACGCTACAAGGGGTGAATGGTTCTCCTACTATT\n",
    "TTTTGCCTTCTCAGTTTACAGACTACGTGAATACAAACGTTTCATTAGAGTTTACTAATTCAAGCCAAGACCATGACT\n",
    "GGGTGAAATTCCAATCATCTAATTTAACATTAGCTGGAGAAGTGCCCAAGAATTTCGACAAGCTTTCATTAGGTTTGA\n",
    "AAGCGAACCAAGGTTCACAATCTCAAGAGCTATATTTTAACATCATTGGCATGGATTCAAAGATAACTCACTCAAACC\n",
    "ACAGTGCGAATGCAACGTCCACAAGAAGTTCTCACCACTCCACCTCAACAAGTTCTTACACATCTTCTACTTACACTG\n",
    "CAAAAATTTCTTCTACCTCCGCTGCTGCTACTTCTTCTGCTCCAGCAGCGCTGCCAGCAGCCAATAAAACTTCATCTC\n",
    "ACAATAAAAAAGCAGTAGCAATTGCGTGCGGTGTTGCTATCCCATTAGGCGTTATCCTAGTAGCTCTCATTTGCTTCC\n",
    "TAATATTCTGGAGACGCAGAAGGGAAAATCCAGACGATGAAAACTTACCGCATGCTATTAGTGGACCTGATTTGAATA\n",
    "ATCCTGCAAATAAACCAAATCAAGAAAACGCTACACCTTTGAACAACCCCTTTGATGATGATGCTTCCTCGTACGATG\n",
    "ATACTTCAATAGCAAGAAGATTGGCTGCTTTGAACACTTTGAAATTGGATAACCACTCTGCCACTGAATCTGATATTT\n",
    "CCAGCGTGGATGAAAAGAGAGATTCTCTATCAGGTATGAATACATACAATGATCAGTTCCAATCCCAAAGTAAAGAAG\n",
    "AATTATTAGCAAAACCCCCAGTACAGCCTCCAGAGAGCCCGTTCTTTGACCCACAGAATAGGTCTTCTTCTGTGTATA\n",
    "TGGATAGTGAACCAGCAGTAAATAAATCCTGGCGATATACTGGCAACCTGTCACCAGTCTCTGATATTGTCAGAGACA\n",
    "GTTACGGATCACAAAAAACTGTTGATACAGAAAAACTTTTCGATTTAGAAGCACCAGAGAAGGAAAAACGTACGTCAA\n",
    "GGGATGTCACTATGTCTTCACTGGACCCTTGGAACAGCAATATTAGCCCTTCTCCCGTAAGAAAATCAGTAACACCAT\n",
    "CACCATATAACGTAACGAAGCATCGTAACCGCCACTTACAAAATATTCAAGACTCTCAAAGCGGTAAAAACGGAATCA\n",
    "CTCCCACAACAATGTCAACTTCATCTTCTGACGATTTTGTTCCGGTTAAAGATGGTGAAAATTTTTGCTGGGTCCACT\n",
    "`\n",
    "\n",
    "A avaliação do exercício contará uma porcentagem alta da nota final, e seu professor já avisou que descontará pontos por cada aminoácido errado na sua resposta. Seus colegas de classe pretendem tirar a noite de sábado para resolver o exercício, já que é o único horário que têm disponível. Mas você tinha planos para ir a uma festa. Como resolver este exercício extremamente **repetitivo** de forma rápida e ainda garantir uma boa nota e a sua festa?"
   ]
  },
  {
   "cell_type": "markdown",
   "metadata": {},
   "source": [
    "##### Desenvolvimento"
   ]
  },
  {
   "cell_type": "markdown",
   "metadata": {},
   "source": [
    "O primeiro passo é subdividir o problema. Liste aqui os dois subproblemas que compõem seu exercício\n",
    "1. Transcrever a sequência de DNA para RNAm\n",
    "2. Traduzir a sequência de RNAm para aminoácidos"
   ]
  },
  {
   "cell_type": "markdown",
   "metadata": {},
   "source": [
    "Vamos colocar a sequência de DNA em uma variável chamada `seq`. Na célula abaixo a sequência foi copiada do texto acima e colada na célula de código. O problema é que queremos transformar o texto em uma string de múltiplas linhas. Para isso usamos as três aspas (`\"\"\"` ou `'''`) para abrir e fechar a string. Ao final, o método de strings `.replace()` substitui quebras de linha na string (denotada por `'\\n'`) por nenhum caractere (denotado por `''`). Isto é equivalente a remover as quebras de linha da string."
   ]
  },
  {
   "cell_type": "code",
   "execution_count": 69,
   "metadata": {
    "collapsed": true
   },
   "outputs": [],
   "source": [
    "seq = \"\"\"GATCCTCCATATACAACGGTATCTCCACCTCAGGTTTAGATCTCAACAACGGAACCATTGCCGACATGAGACAGTTAG\n",
    "GTATCGTCGAGAGTTACAAGCTAAAACGAGCAGTAGTCAGCTCTGCATCTGAAGCCGCTGAAGTTCTACTAAGGGTGG\n",
    "ATAACATCATCCGTGCAAGACCAAGAACCGCCAATAGACAACATATGTAACATATTTAGGATATACCTCGAAAATAAT\n",
    "AAACCGCCACACTGTCATTATTATAATTAGAAACAGAACGCAAAAATTATCCACTATATAATTCAAAGACGCGAAAAA\n",
    "AAAAGAACAACGCGTCATAGAACTTTTGGCAATTCGCGTCACAAATAAATTTTGGCAACTTATGTTTCCTCTTCGAGC\n",
    "AGTACTCGAGCCCTGTCTCAAGAATGTAATAATACCCATCGTAGGTATGGTTAAAGATAGCATCTCCACAACCTCAAA\n",
    "GCTCCTTGCCGAGAGTCGCCCTCCTTTGTCGAGTAATTTTCACTTTTCATATGAGAACTTATTTTCTTATTCTTTACT\n",
    "CTCACATCCTGTAGTGATTGACACTGCAACAGCCACCATCACTAGAAGAACAGAACAATTACTTAATAGAAAAATTAT\n",
    "ATCTTCCTCGAAACGATTTCCTGCTTCCAACATCTACGTATATCAAGAAGCATTCACTTACCATGACACAGCTTCAGA\n",
    "TTTCATTATTGCTGACAGCTACTATATCACTACTCCATCTAGTAGTGGCCACGCCCTATGAGGCATATCCTATCGGAA\n",
    "AACAATACCCCCCAGTGGCAAGAGTCAATGAATCGTTTACATTTCAAATTTCCAATGATACCTATAAATCGTCTGTAG\n",
    "ACAAGACAGCTCAAATAACATACAATTGCTTCGACTTACCGAGCTGGCTTTCGTTTGACTCTAGTTCTAGAACGTTCT\n",
    "CAGGTGAACCTTCTTCTGACTTACTATCTGATGCGAACACCACGTTGTATTTCAATGTAATACTCGAGGGTACGGACT\n",
    "CTGCCGACAGCACGTCTTTGAACAATACATACCAATTTGTTGTTACAAACCGTCCATCCATCTCGCTATCGTCAGATT\n",
    "TCAATCTATTGGCGTTGTTAAAAAACTATGGTTATACTAACGGCAAAAACGCTCTGAAACTAGATCCTAATGAAGTCT\n",
    "TCAACGTGACTTTTGACCGTTCAATGTTCACTAACGAAGAATCCATTGTGTCGTATTACGGACGTTCTCAGTTGTATA\n",
    "ATGCGCCGTTACCCAATTGGCTGTTCTTCGATTCTGGCGAGTTGAAGTTTACTGGGACGGCACCGGTGATAAACTCGG\n",
    "CGATTGCTCCAGAAACAAGCTACAGTTTTGTCATCATCGCTACAGACATTGAAGGATTTTCTGCCGTTGAGGTAGAAT\n",
    "TCGAATTAGTCATCGGGGCTCACCAGTTAACTACCTCTATTCAAAATAGTTTGATAATCAACGTTACTGACACAGGTA\n",
    "ACGTTTCATATGACTTACCTCTAAACTATGTTTATCTCGATGACGATCCTATTTCTTCTGATAAATTGGGTTCTATAA\n",
    "ACTTATTGGATGCTCCAGACTGGGTGGCATTAGATAATGCTACCATTTCCGGGTCTGTCCCAGATGAATTACTCGGTA\n",
    "AGAACTCCAATCCTGCCAATTTTTCTGTGTCCATTTATGATACTTATGGTGATGTGATTTATTTCAACTTCGAAGTTG\n",
    "TCTCCACAACGGATTTGTTTGCCATTAGTTCTCTTCCCAATATTAACGCTACAAGGGGTGAATGGTTCTCCTACTATT\n",
    "TTTTGCCTTCTCAGTTTACAGACTACGTGAATACAAACGTTTCATTAGAGTTTACTAATTCAAGCCAAGACCATGACT\n",
    "GGGTGAAATTCCAATCATCTAATTTAACATTAGCTGGAGAAGTGCCCAAGAATTTCGACAAGCTTTCATTAGGTTTGA\n",
    "AAGCGAACCAAGGTTCACAATCTCAAGAGCTATATTTTAACATCATTGGCATGGATTCAAAGATAACTCACTCAAACC\n",
    "ACAGTGCGAATGCAACGTCCACAAGAAGTTCTCACCACTCCACCTCAACAAGTTCTTACACATCTTCTACTTACACTG\n",
    "CAAAAATTTCTTCTACCTCCGCTGCTGCTACTTCTTCTGCTCCAGCAGCGCTGCCAGCAGCCAATAAAACTTCATCTC\n",
    "ACAATAAAAAAGCAGTAGCAATTGCGTGCGGTGTTGCTATCCCATTAGGCGTTATCCTAGTAGCTCTCATTTGCTTCC\n",
    "TAATATTCTGGAGACGCAGAAGGGAAAATCCAGACGATGAAAACTTACCGCATGCTATTAGTGGACCTGATTTGAATA\n",
    "ATCCTGCAAATAAACCAAATCAAGAAAACGCTACACCTTTGAACAACCCCTTTGATGATGATGCTTCCTCGTACGATG\n",
    "ATACTTCAATAGCAAGAAGATTGGCTGCTTTGAACACTTTGAAATTGGATAACCACTCTGCCACTGAATCTGATATTT\n",
    "CCAGCGTGGATGAAAAGAGAGATTCTCTATCAGGTATGAATACATACAATGATCAGTTCCAATCCCAAAGTAAAGAAG\n",
    "AATTATTAGCAAAACCCCCAGTACAGCCTCCAGAGAGCCCGTTCTTTGACCCACAGAATAGGTCTTCTTCTGTGTATA\n",
    "TGGATAGTGAACCAGCAGTAAATAAATCCTGGCGATATACTGGCAACCTGTCACCAGTCTCTGATATTGTCAGAGACA\n",
    "GTTACGGATCACAAAAAACTGTTGATACAGAAAAACTTTTCGATTTAGAAGCACCAGAGAAGGAAAAACGTACGTCAA\n",
    "GGGATGTCACTATGTCTTCACTGGACCCTTGGAACAGCAATATTAGCCCTTCTCCCGTAAGAAAATCAGTAACACCAT\n",
    "CACCATATAACGTAACGAAGCATCGTAACCGCCACTTACAAAATATTCAAGACTCTCAAAGCGGTAAAAACGGAATCA\n",
    "CTCCCACAACAATGTCAACTTCATCTTCTGACGATTTTGTTCCGGTTAAAGATGGTGAAAATTTTTGCTGGGTCCACT\"\"\".replace(\"\\n\",'')"
   ]
  },
  {
   "cell_type": "markdown",
   "metadata": {},
   "source": [
    "Agora a sequência de bases está em uma string:"
   ]
  },
  {
   "cell_type": "code",
   "execution_count": 70,
   "metadata": {},
   "outputs": [
    {
     "data": {
      "text/plain": [
       "'GATCCTCCATATACAACGGTATCTCCACCTCAGGTTTAGATCTCAACAACGGAACCATTGCCGACATGAGACAGTTAGGTATCGTCGAGAGTTACAAGCTAAAACGAGCAGTAGTCAGCTCTGCATCTGAAGCCGCTGAAGTTCTACTAAGGGTGGATAACATCATCCGTGCAAGACCAAGAACCGCCAATAGACAACATATGTAACATATTTAGGATATACCTCGAAAATAATAAACCGCCACACTGTCATTATTATAATTAGAAACAGAACGCAAAAATTATCCACTATATAATTCAAAGACGCGAAAAAAAAAGAACAACGCGTCATAGAACTTTTGGCAATTCGCGTCACAAATAAATTTTGGCAACTTATGTTTCCTCTTCGAGCAGTACTCGAGCCCTGTCTCAAGAATGTAATAATACCCATCGTAGGTATGGTTAAAGATAGCATCTCCACAACCTCAAAGCTCCTTGCCGAGAGTCGCCCTCCTTTGTCGAGTAATTTTCACTTTTCATATGAGAACTTATTTTCTTATTCTTTACTCTCACATCCTGTAGTGATTGACACTGCAACAGCCACCATCACTAGAAGAACAGAACAATTACTTAATAGAAAAATTATATCTTCCTCGAAACGATTTCCTGCTTCCAACATCTACGTATATCAAGAAGCATTCACTTACCATGACACAGCTTCAGATTTCATTATTGCTGACAGCTACTATATCACTACTCCATCTAGTAGTGGCCACGCCCTATGAGGCATATCCTATCGGAAAACAATACCCCCCAGTGGCAAGAGTCAATGAATCGTTTACATTTCAAATTTCCAATGATACCTATAAATCGTCTGTAGACAAGACAGCTCAAATAACATACAATTGCTTCGACTTACCGAGCTGGCTTTCGTTTGACTCTAGTTCTAGAACGTTCTCAGGTGAACCTTCTTCTGACTTACTATCTGATGCGAACACCACGTTGTATTTCAATGTAATACTCGAGGGTACGGACTCTGCCGACAGCACGTCTTTGAACAATACATACCAATTTGTTGTTACAAACCGTCCATCCATCTCGCTATCGTCAGATTTCAATCTATTGGCGTTGTTAAAAAACTATGGTTATACTAACGGCAAAAACGCTCTGAAACTAGATCCTAATGAAGTCTTCAACGTGACTTTTGACCGTTCAATGTTCACTAACGAAGAATCCATTGTGTCGTATTACGGACGTTCTCAGTTGTATAATGCGCCGTTACCCAATTGGCTGTTCTTCGATTCTGGCGAGTTGAAGTTTACTGGGACGGCACCGGTGATAAACTCGGCGATTGCTCCAGAAACAAGCTACAGTTTTGTCATCATCGCTACAGACATTGAAGGATTTTCTGCCGTTGAGGTAGAATTCGAATTAGTCATCGGGGCTCACCAGTTAACTACCTCTATTCAAAATAGTTTGATAATCAACGTTACTGACACAGGTAACGTTTCATATGACTTACCTCTAAACTATGTTTATCTCGATGACGATCCTATTTCTTCTGATAAATTGGGTTCTATAAACTTATTGGATGCTCCAGACTGGGTGGCATTAGATAATGCTACCATTTCCGGGTCTGTCCCAGATGAATTACTCGGTAAGAACTCCAATCCTGCCAATTTTTCTGTGTCCATTTATGATACTTATGGTGATGTGATTTATTTCAACTTCGAAGTTGTCTCCACAACGGATTTGTTTGCCATTAGTTCTCTTCCCAATATTAACGCTACAAGGGGTGAATGGTTCTCCTACTATTTTTTGCCTTCTCAGTTTACAGACTACGTGAATACAAACGTTTCATTAGAGTTTACTAATTCAAGCCAAGACCATGACTGGGTGAAATTCCAATCATCTAATTTAACATTAGCTGGAGAAGTGCCCAAGAATTTCGACAAGCTTTCATTAGGTTTGAAAGCGAACCAAGGTTCACAATCTCAAGAGCTATATTTTAACATCATTGGCATGGATTCAAAGATAACTCACTCAAACCACAGTGCGAATGCAACGTCCACAAGAAGTTCTCACCACTCCACCTCAACAAGTTCTTACACATCTTCTACTTACACTGCAAAAATTTCTTCTACCTCCGCTGCTGCTACTTCTTCTGCTCCAGCAGCGCTGCCAGCAGCCAATAAAACTTCATCTCACAATAAAAAAGCAGTAGCAATTGCGTGCGGTGTTGCTATCCCATTAGGCGTTATCCTAGTAGCTCTCATTTGCTTCCTAATATTCTGGAGACGCAGAAGGGAAAATCCAGACGATGAAAACTTACCGCATGCTATTAGTGGACCTGATTTGAATAATCCTGCAAATAAACCAAATCAAGAAAACGCTACACCTTTGAACAACCCCTTTGATGATGATGCTTCCTCGTACGATGATACTTCAATAGCAAGAAGATTGGCTGCTTTGAACACTTTGAAATTGGATAACCACTCTGCCACTGAATCTGATATTTCCAGCGTGGATGAAAAGAGAGATTCTCTATCAGGTATGAATACATACAATGATCAGTTCCAATCCCAAAGTAAAGAAGAATTATTAGCAAAACCCCCAGTACAGCCTCCAGAGAGCCCGTTCTTTGACCCACAGAATAGGTCTTCTTCTGTGTATATGGATAGTGAACCAGCAGTAAATAAATCCTGGCGATATACTGGCAACCTGTCACCAGTCTCTGATATTGTCAGAGACAGTTACGGATCACAAAAAACTGTTGATACAGAAAAACTTTTCGATTTAGAAGCACCAGAGAAGGAAAAACGTACGTCAAGGGATGTCACTATGTCTTCACTGGACCCTTGGAACAGCAATATTAGCCCTTCTCCCGTAAGAAAATCAGTAACACCATCACCATATAACGTAACGAAGCATCGTAACCGCCACTTACAAAATATTCAAGACTCTCAAAGCGGTAAAAACGGAATCACTCCCACAACAATGTCAACTTCATCTTCTGACGATTTTGTTCCGGTTAAAGATGGTGAAAATTTTTGCTGGGTCCACT'"
      ]
     },
     "execution_count": 70,
     "metadata": {},
     "output_type": "execute_result"
    }
   ],
   "source": [
    "seq"
   ]
  },
  {
   "cell_type": "markdown",
   "metadata": {},
   "source": [
    "### 6.1 Estruturas de repetição: loops"
   ]
  },
  {
   "cell_type": "markdown",
   "metadata": {},
   "source": [
    "**Loops** (em português \"laços de repetição\") são estruturas que garantem que uma parte do código seja repetida várias vezes. No jargão da computação, chamamos cada repetição de um trecho de código de **iteração**. Existem dois tipos fundamentais de loops: (i) ***for* loops** e (ii) ***while* loops**. Por simplicidade por enquanto veremos apenas o primeiro tipo."
   ]
  },
  {
   "cell_type": "markdown",
   "metadata": {},
   "source": [
    "Tente entender o que o código abaixo faz. Em seguida, confirme sua hipótese executando a célula e observando a saída."
   ]
  },
  {
   "cell_type": "code",
   "execution_count": 71,
   "metadata": {},
   "outputs": [
    {
     "name": "stdout",
     "output_type": "stream",
     "text": [
      "Iteração 0\n",
      "Iteração 1\n",
      "Iteração 2\n",
      "Iteração 3\n",
      "Iteração 4\n",
      "Iteração 5\n",
      "Iteração 6\n",
      "Iteração 7\n",
      "Iteração 8\n",
      "Iteração 9\n"
     ]
    }
   ],
   "source": [
    "for i in range(10):\n",
    "    print (\"Iteração \" + str(i) )"
   ]
  },
  {
   "cell_type": "markdown",
   "metadata": {},
   "source": [
    "O que acontece é que quando usamos a estrutura **for** para repetir um trecho de código precisamos utilizar uma **variável de iteração** (no caso acima é a variável `i`, mas poderia ser qualquer outra, como por exemplo `gato`) e uma lista com os elementos que desejamos percorrer. No exemplo acima, `i in range(10)` significa que a variável de iteração  `i`, a cada iteração, assumirá o valor seguinte na lista `range(10)`."
   ]
  },
  {
   "cell_type": "markdown",
   "metadata": {},
   "source": [
    "Teste sua compreensão escrevendo na célula abaixo um loop para somar números de 0 a 10.\n",
    "\n",
    "**Dica:** Utilize uma variável contadora `ctr` (**counter variable**) para armazenar o resultado até cada iteração. Inicialmente ela terá valor zero. A cada iteração você só precisará atualizar o contador somando o número da iteração."
   ]
  },
  {
   "cell_type": "code",
   "execution_count": 72,
   "metadata": {},
   "outputs": [
    {
     "data": {
      "text/plain": [
       "55"
      ]
     },
     "execution_count": 72,
     "metadata": {},
     "output_type": "execute_result"
    }
   ],
   "source": [
    "# TODO: somar números de 0 a 10 (solução = 55)\n",
    "\n",
    "ctr = 0\n",
    "for i in range(11):\n",
    "    ctr = ctr + i\n",
    "\n",
    "ctr"
   ]
  },
  {
   "cell_type": "markdown",
   "metadata": {},
   "source": [
    "> Strings também podem ser percorridas (*iteradas*) em um loop, usando a mesma sintaxe. Pense em uma String como uma lista de caracteres. Escreva abaixo um loop para transformar em caixa alto ( método `.upper()` ) cada caractere da string na variável `s`, que armazenará seu nome. **Dica**: Utilize uma string auxiliar `r` que armazenará o resultado após cada iteração do loop de forma análoga à situação anterior."
   ]
  },
  {
   "cell_type": "code",
   "execution_count": 73,
   "metadata": {},
   "outputs": [
    {
     "name": "stdout",
     "output_type": "stream",
     "text": [
      "Insira seu nome: Pedro\n"
     ]
    },
    {
     "data": {
      "text/plain": [
       "'PEDRO'"
      ]
     },
     "execution_count": 73,
     "metadata": {},
     "output_type": "execute_result"
    }
   ],
   "source": [
    "s = input(\"Insira seu nome: \")\n",
    "# TODO: percorrer seu nome e transformar cada caractere em caixa alto (uppercase)\n",
    "\n",
    "r = \"\"\n",
    "for caractere in s:\n",
    "    r = r + caractere.upper()\n",
    "\n",
    "r"
   ]
  },
  {
   "cell_type": "markdown",
   "metadata": {},
   "source": [
    "### 6.2 Funções"
   ]
  },
  {
   "cell_type": "markdown",
   "metadata": {},
   "source": [
    "Funções são como liquidificadores! Inserimos bananas e um copo de leite, ajustamos alguns parâmetros como o tempo de processamento e por fim recebemos uma deliciosa vitamina! E o melhor é que não precisamos entender os mínimos detalhes sobre como os mecanismos internos do aparelho funcionam para fazer nossa vitamina. Nem tampouco precisamos ter construído o liquidificador do zero para poder saboreá-la. Ainda, qualquer que fosse o liquidificador esperaríamos obter algo não muito diferente de uma vitamina, desde que utilizássemos os mesmos ingredientes e regulagens.\n",
    "\n",
    "<img src=\"img/blender_functions.png\">"
   ]
  },
  {
   "cell_type": "markdown",
   "metadata": {},
   "source": [
    "Agora de forma mais sofisticada, funções são construções que **encapsulam** um determinado comportamento que se espera executar múltiplas vezes durante a execução de um programa. São rotinas, que podem ter sido definidas pelo próprio programador ou por outros programadores. No caso do liquidificador, sua \"rotina\" foi definida pelo próprio fabricante. O usuário só precisa saber o que precisa fornecer como **entrada** (*input*) e o que deve esperar receber como **saída** (*output*)."
   ]
  },
  {
   "cell_type": "markdown",
   "metadata": {},
   "source": [
    "Funções facilitam sua vida por dois motivos principais. \n",
    "\n",
    "1. Permitem ao programador **abstrair** computações, sem precisar se preocupar a todo momento sobre os mínimos detalhes de como elas são de fato realizadas. Imagine se você tivesse que se preocupar como uma lista *Python* é criada e armazenada na memória do computador toda vez que você precisasse utilizar uma... Felizmente a função `list()` permite que a rotina de criação de uma lista seja abstraída para você, o que facilita bastante seu aprendizado! \n",
    "\n",
    "2. Permitem **compartilhar** e **reutilizar** código. Você poderia por exemplo construir uma função para resolver seu exercício e encaminhar para seu professor para que ele avalie seu trabalho! Assim ele poderá executar exatamente a mesma rotina que você para chegar à resposta do exercício. Quem sabe isso não te garantirá pontuação extra?\n",
    "\n",
    "Quando criamos (ou **definimos**) uma função escrevemos todas as etapas que devem ser realizadas por ela, bem como as variáveis que ela deve receber (*input*) e o resultado que ela produzirá como saída (*output*). Para executar uma função devemos **invocá-la** ou, em termos menos macabros, chamá-la."
   ]
  },
  {
   "cell_type": "markdown",
   "metadata": {},
   "source": [
    "Vejamos um exemplo de como **definir** uma função. A `funcaoSoma` aceita dois **argumentos** (*input*), realiza a soma e por fim retorna (*output*) o resultado."
   ]
  },
  {
   "cell_type": "code",
   "execution_count": 74,
   "metadata": {
    "collapsed": true
   },
   "outputs": [],
   "source": [
    "def funcaoSoma(n1, n2):\n",
    "    # o que estiver indentado fará parte da função\n",
    "    resultado_soma = n1 + n2\n",
    "    return resultado_soma\n",
    "    # qualquer coisa neste nível de indentação ainda faz parte da função!\n",
    "    # qualquer coisa dentro da função após a palavra return não será executada!\n",
    "     \n",
    "    \n",
    "# qualquer coisa neste nível de indentação não faz mais parte da função "
   ]
  },
  {
   "cell_type": "markdown",
   "metadata": {},
   "source": [
    "Vamos agora utilizar a `funcaoSoma`. Para isso vamos chamá-la. "
   ]
  },
  {
   "cell_type": "code",
   "execution_count": 75,
   "metadata": {},
   "outputs": [
    {
     "data": {
      "text/plain": [
       "18"
      ]
     },
     "execution_count": 75,
     "metadata": {},
     "output_type": "execute_result"
    }
   ],
   "source": [
    "funcaoSoma(7,11)\n",
    "# ou funcaoSoma(n1=7, n2=11)\n",
    "# ou funcaoSoma(7, n2=11)"
   ]
  },
  {
   "cell_type": "markdown",
   "metadata": {},
   "source": [
    "O que nós fizemos foi executar a rotina definida na função atribuindo as variáveis `n1`e `n2` (**parâmetros**) aos valores 5 e 7 (**argumentos**)."
   ]
  },
  {
   "cell_type": "markdown",
   "metadata": {},
   "source": [
    "Defina abaixo a `funcaoSomaTodos` com parâmetros `n1` e `n2`. Esta função deve retornar a soma de todos os números de `n1` a `n2` (incluindo `n2`)."
   ]
  },
  {
   "cell_type": "code",
   "execution_count": 76,
   "metadata": {
    "collapsed": true
   },
   "outputs": [],
   "source": [
    "# Aqui nós simplesmente iremos encapsular a rotina de soma que definimos em algumas células acima\n",
    "def funcaoSomaTodos(n1,n2):\n",
    "    ctr=0\n",
    "    for i in range(n1,n2+1):\n",
    "        ctr = ctr + i\n",
    "    \n",
    "    return ctr    "
   ]
  },
  {
   "cell_type": "code",
   "execution_count": 77,
   "metadata": {},
   "outputs": [
    {
     "data": {
      "text/plain": [
       "45"
      ]
     },
     "execution_count": 77,
     "metadata": {},
     "output_type": "execute_result"
    }
   ],
   "source": [
    "funcaoSomaTodos(7,11)"
   ]
  },
  {
   "cell_type": "code",
   "execution_count": 78,
   "metadata": {
    "collapsed": true
   },
   "outputs": [],
   "source": [
    "# Este código verifica se sua função funciona corretamente\n",
    "assert( funcaoSomaTodos(7,11)==45 )"
   ]
  },
  {
   "cell_type": "markdown",
   "metadata": {},
   "source": [
    "> Funções possuem **escopo** próprio. O que isso significa é que as variáveis definidas e operadas dentro de uma função somente são visíveis dentro dela. Veja o exemplo abaixo. A variável `a` dentro da função `foo`, apesar de ter o mesmo nome que a **variável global** `a`, referencia outro valor neste contexto. A variável `b` só existe dentro do escopo da função `foo`, de forma que chamá-la fora do escopo gera um erro. A variável `c` é definida globalmente, e como não há nenhuma outra variável `c` definida dentro da função `foo`, seu valor global é assumido. Pense em escopos como uma hierarquia de contextos.  "
   ]
  },
  {
   "cell_type": "code",
   "execution_count": 79,
   "metadata": {},
   "outputs": [
    {
     "name": "stdout",
     "output_type": "stream",
     "text": [
      "variável 'a' fora da função:  10\n",
      "variável 'c' fora da função:  30\n",
      "variável 'a' dentro da função:  1\n",
      "variável 'b' dentro da função:  2\n",
      "variável 'c' dentro da função:  30\n",
      "variável 'a' fora da função novamente:  10\n",
      "variável 'b' fora da função 1\n"
     ]
    }
   ],
   "source": [
    "a = 10\n",
    "c = 30\n",
    "\n",
    "print(\"variável 'a' fora da função: \", a)\n",
    "print(\"variável 'c' fora da função: \", c)\n",
    "\n",
    "def foo(a,b): # definindo a função foo com parâmetros a e b\n",
    "    print(\"variável 'a' dentro da função: \", a)\n",
    "    print(\"variável 'b' dentro da função: \", b)\n",
    "    print(\"variável 'c' dentro da função: \", c)\n",
    "    return\n",
    "\n",
    "foo(1,2) # chamando a função foo com a=1 e b=2\n",
    "print(\"variável 'a' fora da função novamente: \", a)\n",
    "print(\"variável 'b' fora da função\", b)"
   ]
  },
  {
   "cell_type": "markdown",
   "metadata": {},
   "source": [
    "Agora que você já aprendeu o básico sobre *loops* e *funções* vamos voltar ao exercício de BioMol. Que tal escrever uma função para realizar cada um dos subproblemas individualmente? Dessa forma, além de você poder ajudar seus colegas, ainda mantém seu código mais organizado. O mapa `codigoGenetico` abaixo será util para converter trincas de bases nos aminoácidos. **Dica**: Para facilitar seu trabalho, construa também um mapa de bases complementares `complementoBase`."
   ]
  },
  {
   "cell_type": "code",
   "execution_count": 80,
   "metadata": {
    "collapsed": true
   },
   "outputs": [],
   "source": [
    "codigoGenetico =  {\n",
    "    'GCA': 'Ala', \n",
    "    'GCC': 'Ala',\n",
    "    'GCG': 'Ala',\n",
    "    'GCU': 'Ala',\n",
    "    \n",
    "    'AGA': 'Arg',\n",
    "    'AGG': 'Arg',\n",
    "    'CGA': 'Arg',\n",
    "    'CGC': 'Arg',\n",
    "    'CGG': 'Arg',\n",
    "    'CGU': 'Arg',\n",
    "    \n",
    "    'GAC': 'Asp',\n",
    "    'GAU': 'Asp',\n",
    "    \n",
    "    'AAC': 'Asn',\n",
    "    'AAU': 'Asn',\n",
    "    \n",
    "    'UGC': 'Cys',\n",
    "    'UGU': 'Cys',\n",
    "    \n",
    "    'GAA': 'Glu',\n",
    "    'GAG': 'Glu',\n",
    "    \n",
    "    'CAA': 'Gln',\n",
    "    'CAG': 'Gln',\n",
    "    \n",
    "    'GGA': 'Gly',\n",
    "    'GGC': 'Gly',\n",
    "    'GGG': 'Gly',\n",
    "    'GGU': 'Gly',\n",
    "    \n",
    "    'CAC': 'His',\n",
    "    'CAU': 'His',\n",
    "    \n",
    "    'AUA': 'Ile',\n",
    "    'AUC': 'Ile',\n",
    "    'AUU': 'Ile',\n",
    "    \n",
    "    'UUA': 'Leu',\n",
    "    'UUG': 'Leu',\n",
    "    'CUA': 'Leu',\n",
    "    'CUC': 'Leu',\n",
    "    'CUG': 'Leu',\n",
    "    'CUU': 'Leu',\n",
    "    \n",
    "    'AAA': 'Lys',\n",
    "    'AAG': 'Lys',\n",
    "    \n",
    "    'AUG': 'Met',\n",
    "    \n",
    "    'UUC': 'Phe',\n",
    "    'UUU': 'Phe',\n",
    "    \n",
    "    'CCA': 'Pro',\n",
    "    'CCC': 'Pro',\n",
    "    'CCG': 'Pro',\n",
    "    'CCU': 'Pro',\n",
    "    \n",
    "    'AGC': 'Ser',\n",
    "    'AGU': 'Ser',\n",
    "    'UCA': 'Ser',\n",
    "    'UCC': 'Ser',\n",
    "    'UCG': 'Ser',\n",
    "    'UCU': 'Ser',\n",
    "    \n",
    "    'ACA': 'Thr',\n",
    "    'ACC': 'Thr',\n",
    "    'ACG': 'Thr',\n",
    "    'ACU': 'Thr',\n",
    "    \n",
    "    'UGG': 'Trp',\n",
    "    \n",
    "    'UAC': 'Tyr',\n",
    "    'UAU': 'Tyr',\n",
    "    \n",
    "    'GUA': 'Val',\n",
    "    'GUC': 'Val',\n",
    "    'GUG': 'Val',\n",
    "    'GUU': 'Val',\n",
    "    \n",
    "    'UAA': 'stop',\n",
    "    'UAG': 'stop',\n",
    "    'UGA': 'stop'\n",
    "    \n",
    "}\n",
    "\n",
    "complementoBase = {\n",
    "    # seu código aqui\n",
    "    'A': 'U',\n",
    "    'T': 'A',\n",
    "    'G': 'C',\n",
    "    'C': 'G'\n",
    "}"
   ]
  },
  {
   "cell_type": "markdown",
   "metadata": {},
   "source": [
    "Vamos primeiro definir nossa função de transcrição"
   ]
  },
  {
   "cell_type": "code",
   "execution_count": 81,
   "metadata": {
    "collapsed": true
   },
   "outputs": [],
   "source": [
    "def transcricao(dnaseq):\n",
    "    # Nesta função percorreremos uma sequência de DNA (parâmetro dnaseq)\n",
    "    # A cada base em dnaseq buscaremos seu complemento, usando o dicionário complementoBase\n",
    "    # obs1: O dicionário é uma variável global, portanto é visível dentro da função\n",
    "    # obs2: A variável dnaseq é local à função, portanto não é visível de fora dela\n",
    "    \n",
    "    compSeq = \"\" # a sequência complementar será construída nesta variável\n",
    "    for base in dnaseq:\n",
    "        compSeq = compSeq + complementoBase[base] \n",
    "    \n",
    "    return compSeq        "
   ]
  },
  {
   "cell_type": "markdown",
   "metadata": {},
   "source": [
    "Vamos ver se nossa função `transcricao` está funcionando bem. Para isso vamos executá-la com uma sequência menor, de teste: "
   ]
  },
  {
   "cell_type": "code",
   "execution_count": 82,
   "metadata": {
    "collapsed": true
   },
   "outputs": [],
   "source": [
    "seq_teste = 'GATCCTCCATATACAACGGTA'"
   ]
  },
  {
   "cell_type": "code",
   "execution_count": 83,
   "metadata": {},
   "outputs": [
    {
     "data": {
      "text/plain": [
       "'CUAGGAGGUAUAUGUUGCCAU'"
      ]
     },
     "execution_count": 83,
     "metadata": {},
     "output_type": "execute_result"
    }
   ],
   "source": [
    "# aqui o valor de seq_teste é passado para dentro da função, armazenado na variável dnaseq (visível somente dentro dela)\n",
    "transcricao( dnaseq=seq_teste )"
   ]
  },
  {
   "cell_type": "markdown",
   "metadata": {},
   "source": [
    "Ótimo! Nossa função de transcrição está funcionando! Agora vamos para a tradução. Como este algoritmo é um pouco mais complicado vamos construí-lo por partes:"
   ]
  },
  {
   "cell_type": "code",
   "execution_count": 84,
   "metadata": {
    "collapsed": true
   },
   "outputs": [],
   "source": [
    "def traducao(rnaseq):\n",
    "    # Nesta função percorreremos uma sequência de RNA e a cada trinca de bases traduziremos para um aminoácido\n",
    "    # Após obter os aminoácidos, precisamos remover os 'stops' (pois sinalizam o fim de uma cadeia)\n",
    "    # Retornaremos uma lista de cadeias de aminoácidos, em que cada cadeia é representada em uma lista\n",
    "    # Vamos dividir a função em subproblemas:\n",
    "    \n",
    "    # 1. Obter codons a partir da sequência de RNA\n",
    "    #   Devemos percorrer a variável rnaseq e a cada três bases (trinca) devemos adicioná-la à lista codons\n",
    "    \n",
    "    codons = [] # esta lista armazenará codons (trincas de bases)\n",
    "    \n",
    "    # Agora o loop:\n",
    "    #  Declaramos a variável codon para ir armazenando bases até construirmos uma trinca\n",
    "    #  A cada iteração (base) na sequência rnaseq:\n",
    "    #      Atualizaremos a variável codon somando a base da iteração à string;\n",
    "    #      Checaremos se o tamanho da string na variável codon é igual a 3:\n",
    "    #         Se for menor que três nós simplesmente passamos à próxima iteração\n",
    "    #         Se for igual a três nós jogaremos a string em codon (que já é uma trinca) dentro da lista codons. Em seguida resetamos o valor de codon para \"\"\n",
    "    #    \n",
    "    \n",
    "    # obs: vou adicionar alguns prints no meio do código para que fique mais claro o que acontece em cada iteração\n",
    "    \n",
    "    i=0 # ignore esta linha (só serve para imprimir o número da iteração)\n",
    "    codon=\"\"\n",
    "    for base in rnaseq:\n",
    "        print(\"Início da iteração\",i,\"; variável codon:\",codon,\"; variavel codons:\",codons)        \n",
    "        codon = codon + base        \n",
    "        if len(codon)==3:\n",
    "            codons = codons + [codon]\n",
    "            codon=\"\"\n",
    "            \n",
    "        print(\"Fim da iteração\",i,\"; variável codon:\",codon,\"; variavel codons:\",codons,\"\\n\")\n",
    "        i+=1 # ignore esta linha (só serve para controlar o número da iteração)\n",
    "\n",
    "    \n",
    "    # por enquanto vamos retornar o valor de codons, para ver que até agora a função está funcionando\n",
    "    return codons"
   ]
  },
  {
   "cell_type": "code",
   "execution_count": 85,
   "metadata": {},
   "outputs": [
    {
     "name": "stdout",
     "output_type": "stream",
     "text": [
      "Início da iteração 0 ; variável codon:  ; variavel codons: []\n",
      "Fim da iteração 0 ; variável codon: C ; variavel codons: [] \n",
      "\n",
      "Início da iteração 1 ; variável codon: C ; variavel codons: []\n",
      "Fim da iteração 1 ; variável codon: CU ; variavel codons: [] \n",
      "\n",
      "Início da iteração 2 ; variável codon: CU ; variavel codons: []\n",
      "Fim da iteração 2 ; variável codon:  ; variavel codons: ['CUA'] \n",
      "\n",
      "Início da iteração 3 ; variável codon:  ; variavel codons: ['CUA']\n",
      "Fim da iteração 3 ; variável codon: G ; variavel codons: ['CUA'] \n",
      "\n",
      "Início da iteração 4 ; variável codon: G ; variavel codons: ['CUA']\n",
      "Fim da iteração 4 ; variável codon: GG ; variavel codons: ['CUA'] \n",
      "\n",
      "Início da iteração 5 ; variável codon: GG ; variavel codons: ['CUA']\n",
      "Fim da iteração 5 ; variável codon:  ; variavel codons: ['CUA', 'GGA'] \n",
      "\n",
      "Início da iteração 6 ; variável codon:  ; variavel codons: ['CUA', 'GGA']\n",
      "Fim da iteração 6 ; variável codon: G ; variavel codons: ['CUA', 'GGA'] \n",
      "\n",
      "Início da iteração 7 ; variável codon: G ; variavel codons: ['CUA', 'GGA']\n",
      "Fim da iteração 7 ; variável codon: GG ; variavel codons: ['CUA', 'GGA'] \n",
      "\n",
      "Início da iteração 8 ; variável codon: GG ; variavel codons: ['CUA', 'GGA']\n",
      "Fim da iteração 8 ; variável codon:  ; variavel codons: ['CUA', 'GGA', 'GGU'] \n",
      "\n",
      "Início da iteração 9 ; variável codon:  ; variavel codons: ['CUA', 'GGA', 'GGU']\n",
      "Fim da iteração 9 ; variável codon: A ; variavel codons: ['CUA', 'GGA', 'GGU'] \n",
      "\n",
      "Início da iteração 10 ; variável codon: A ; variavel codons: ['CUA', 'GGA', 'GGU']\n",
      "Fim da iteração 10 ; variável codon: AU ; variavel codons: ['CUA', 'GGA', 'GGU'] \n",
      "\n",
      "Início da iteração 11 ; variável codon: AU ; variavel codons: ['CUA', 'GGA', 'GGU']\n",
      "Fim da iteração 11 ; variável codon:  ; variavel codons: ['CUA', 'GGA', 'GGU', 'AUA'] \n",
      "\n",
      "Início da iteração 12 ; variável codon:  ; variavel codons: ['CUA', 'GGA', 'GGU', 'AUA']\n",
      "Fim da iteração 12 ; variável codon: U ; variavel codons: ['CUA', 'GGA', 'GGU', 'AUA'] \n",
      "\n",
      "Início da iteração 13 ; variável codon: U ; variavel codons: ['CUA', 'GGA', 'GGU', 'AUA']\n",
      "Fim da iteração 13 ; variável codon: UG ; variavel codons: ['CUA', 'GGA', 'GGU', 'AUA'] \n",
      "\n",
      "Início da iteração 14 ; variável codon: UG ; variavel codons: ['CUA', 'GGA', 'GGU', 'AUA']\n",
      "Fim da iteração 14 ; variável codon:  ; variavel codons: ['CUA', 'GGA', 'GGU', 'AUA', 'UGU'] \n",
      "\n",
      "Início da iteração 15 ; variável codon:  ; variavel codons: ['CUA', 'GGA', 'GGU', 'AUA', 'UGU']\n",
      "Fim da iteração 15 ; variável codon: U ; variavel codons: ['CUA', 'GGA', 'GGU', 'AUA', 'UGU'] \n",
      "\n",
      "Início da iteração 16 ; variável codon: U ; variavel codons: ['CUA', 'GGA', 'GGU', 'AUA', 'UGU']\n",
      "Fim da iteração 16 ; variável codon: UG ; variavel codons: ['CUA', 'GGA', 'GGU', 'AUA', 'UGU'] \n",
      "\n",
      "Início da iteração 17 ; variável codon: UG ; variavel codons: ['CUA', 'GGA', 'GGU', 'AUA', 'UGU']\n",
      "Fim da iteração 17 ; variável codon:  ; variavel codons: ['CUA', 'GGA', 'GGU', 'AUA', 'UGU', 'UGC'] \n",
      "\n",
      "Início da iteração 18 ; variável codon:  ; variavel codons: ['CUA', 'GGA', 'GGU', 'AUA', 'UGU', 'UGC']\n",
      "Fim da iteração 18 ; variável codon: C ; variavel codons: ['CUA', 'GGA', 'GGU', 'AUA', 'UGU', 'UGC'] \n",
      "\n",
      "Início da iteração 19 ; variável codon: C ; variavel codons: ['CUA', 'GGA', 'GGU', 'AUA', 'UGU', 'UGC']\n",
      "Fim da iteração 19 ; variável codon: CA ; variavel codons: ['CUA', 'GGA', 'GGU', 'AUA', 'UGU', 'UGC'] \n",
      "\n",
      "Início da iteração 20 ; variável codon: CA ; variavel codons: ['CUA', 'GGA', 'GGU', 'AUA', 'UGU', 'UGC']\n",
      "Fim da iteração 20 ; variável codon:  ; variavel codons: ['CUA', 'GGA', 'GGU', 'AUA', 'UGU', 'UGC', 'CAU'] \n",
      "\n"
     ]
    },
    {
     "data": {
      "text/plain": [
       "['CUA', 'GGA', 'GGU', 'AUA', 'UGU', 'UGC', 'CAU']"
      ]
     },
     "execution_count": 85,
     "metadata": {},
     "output_type": "execute_result"
    }
   ],
   "source": [
    "seq_teste = 'GATCCTCCATATACAACGGTA'\n",
    "\n",
    "rna_transcrito = transcricao(seq_teste)\n",
    "traducao( rna_transcrito )"
   ]
  },
  {
   "cell_type": "markdown",
   "metadata": {},
   "source": [
    "Procure entender o que acontece a cada iteração na célula acima. Em seguida, vamos continuar trabalhando na função de tradução. Para manter a limpeza do código removerei os prints do primeiro loop."
   ]
  },
  {
   "cell_type": "code",
   "execution_count": 86,
   "metadata": {
    "collapsed": true
   },
   "outputs": [],
   "source": [
    "def traducao(rnaseq):\n",
    "    # Nesta função percorreremos uma sequência de RNA e a cada trinca de bases traduziremos para um aminoácido\n",
    "    # Após obter os aminoácidos, precisamos remover os 'stops' (pois sinalizam o fim de uma cadeia)\n",
    "    # Retornaremos uma lista de cadeias de aminoácidos, em que cada cadeia é representada em uma lista\n",
    "    # Vamos dividir a função em subproblemas:\n",
    "    \n",
    "    # 1. Obter codons a partir da sequência de RNA\n",
    "    #   Devemos percorrer a variável rnaseq e a cada três bases (trinca) devemos adicioná-la à lista codons\n",
    "\n",
    "    codons = [] # esta lista armazenará codons (trincas de bases)\n",
    "    \n",
    "    codon=\"\"\n",
    "    for base in rnaseq:      \n",
    "        codon = codon + base        \n",
    "        if len(codon)==3:\n",
    "            codons = codons + [codon]\n",
    "            codon=\"\"\n",
    "               \n",
    "    \n",
    "    # 2. Obter o aminoácido codificado por cada códon\n",
    "    #   Devemos percorrer a lista de códons \n",
    "    #   A cada iteração, obteremos o aminoácido codificado pelo códon, usando o dicionário codigoGenetico\n",
    "    #   O aminoácido obtido na iteração é adicionado à lista na variável aminos\n",
    "    \n",
    "    aminos = []\n",
    "    \n",
    "    i=0 # esta variável só armazena o número da iteração atual\n",
    "    for codon in codons:\n",
    "        amino = codigoGenetico[codon]\n",
    "        print(\"Iteração\",i,\":\",codon,\"-[codifica]->\",amino)\n",
    "        aminos = aminos + [amino]\n",
    "        i = i+1\n",
    "    \n",
    "    # temos que lembrar de atualizar o retorno da função para aminos\n",
    "    return aminos"
   ]
  },
  {
   "cell_type": "code",
   "execution_count": 87,
   "metadata": {},
   "outputs": [
    {
     "name": "stdout",
     "output_type": "stream",
     "text": [
      "Iteração 0 : CUA -[codifica]-> Leu\n",
      "Iteração 1 : GGA -[codifica]-> Gly\n",
      "Iteração 2 : GGU -[codifica]-> Gly\n",
      "Iteração 3 : AUA -[codifica]-> Ile\n",
      "Iteração 4 : UGU -[codifica]-> Cys\n",
      "Iteração 5 : UGC -[codifica]-> Cys\n",
      "Iteração 6 : CAU -[codifica]-> His\n"
     ]
    },
    {
     "data": {
      "text/plain": [
       "['Leu', 'Gly', 'Gly', 'Ile', 'Cys', 'Cys', 'His']"
      ]
     },
     "execution_count": 87,
     "metadata": {},
     "output_type": "execute_result"
    }
   ],
   "source": [
    "traducao( transcricao(seq_teste) ) # Aqui estamos encadeando as funções transcricao e traducao"
   ]
  },
  {
   "cell_type": "markdown",
   "metadata": {},
   "source": [
    "Poderíamos parar por aqui. Porém, quando rodamos o algoritmo acima para a sequência inteira, alguns códons codificam parada ('stop'). Vamos usar o 'stop' para delimitar o fim de uma cadeia de aminoácidos. Veja o exemplo abaixo:"
   ]
  },
  {
   "cell_type": "code",
   "execution_count": 88,
   "metadata": {},
   "outputs": [
    {
     "name": "stdout",
     "output_type": "stream",
     "text": [
      "Iteração 0 : CUA -[codifica]-> Leu\n",
      "Iteração 1 : GGA -[codifica]-> Gly\n",
      "Iteração 2 : GGU -[codifica]-> Gly\n",
      "Iteração 3 : AUA -[codifica]-> Ile\n",
      "Iteração 4 : UGU -[codifica]-> Cys\n",
      "Iteração 5 : UGC -[codifica]-> Cys\n",
      "Iteração 6 : CAU -[codifica]-> His\n",
      "Iteração 7 : AGA -[codifica]-> Arg\n",
      "Iteração 8 : GGU -[codifica]-> Gly\n",
      "Iteração 9 : GGA -[codifica]-> Gly\n",
      "Iteração 10 : GUC -[codifica]-> Val\n",
      "Iteração 11 : CAA -[codifica]-> Gln\n",
      "Iteração 12 : AUC -[codifica]-> Ile\n",
      "Iteração 13 : UAG -[codifica]-> stop\n",
      "Iteração 14 : GUC -[codifica]-> Val\n",
      "Iteração 15 : CAA -[codifica]-> Gln\n",
      "Iteração 16 : AUC -[codifica]-> Ile\n",
      "Iteração 17 : UAG -[codifica]-> stop\n"
     ]
    },
    {
     "data": {
      "text/plain": [
       "['Leu',\n",
       " 'Gly',\n",
       " 'Gly',\n",
       " 'Ile',\n",
       " 'Cys',\n",
       " 'Cys',\n",
       " 'His',\n",
       " 'Arg',\n",
       " 'Gly',\n",
       " 'Gly',\n",
       " 'Val',\n",
       " 'Gln',\n",
       " 'Ile',\n",
       " 'stop',\n",
       " 'Val',\n",
       " 'Gln',\n",
       " 'Ile',\n",
       " 'stop']"
      ]
     },
     "execution_count": 88,
     "metadata": {},
     "output_type": "execute_result"
    }
   ],
   "source": [
    "seq_teste = 'GATCCTCCATATACAACGGTATCTCCACCTCAGGTTTAGATCCAGGTTTAGATC'\n",
    "\n",
    "traducao(transcricao(seq_teste))"
   ]
  },
  {
   "cell_type": "code",
   "execution_count": 89,
   "metadata": {
    "collapsed": true
   },
   "outputs": [],
   "source": [
    "def traducao(rnaseq):\n",
    "    # Nesta função percorreremos uma sequência de RNA e a cada trinca de bases traduziremos para um aminoácido\n",
    "    # Após obter os aminoácidos, precisamos remover os 'stops' (pois sinalizam o fim de uma cadeia)\n",
    "    # Retornaremos uma lista de cadeias de aminoácidos, em que cada cadeia é representada em uma lista\n",
    "    # Vamos dividir a função em subproblemas:\n",
    "    \n",
    "    # 1. Obter codons a partir da sequência de RNA\n",
    "    #   Devemos percorrer a variável rnaseq e a cada três bases (trinca) devemos adicioná-la à lista codons\n",
    "\n",
    "    codons = [] # esta lista armazenará codons (trincas de bases)\n",
    "    \n",
    "    codon=\"\"\n",
    "    for base in rnaseq:      \n",
    "        codon = codon + base        \n",
    "        if len(codon)==3:\n",
    "            codons = codons + [codon]\n",
    "            codon=\"\"\n",
    "               \n",
    "    \n",
    "    # 2. Obter o aminoácido codificado por cada códon\n",
    "    #   Devemos percorrer a lista de códons \n",
    "    #   A cada iteração, obteremos o aminoácido codificado pelo códon, usando o dicionário codigoGenetico\n",
    "    #   O aminoácido obtido na iteração é adicionado à lista na variável aminos\n",
    "    \n",
    "    aminos = []\n",
    "    \n",
    "    for codon in codons:\n",
    "        amino = codigoGenetico[codon]\n",
    "        aminos = aminos + [amino]\n",
    "        \n",
    "        \n",
    "    # 3. Armazenar as cadeias de aminoácidos em sublistas\n",
    "    # Inicializamos uma lista vazia que armazenará as cadeias\n",
    "    # Começamos com uma cadeia vazia\n",
    "    # Loop: Devemos percorrer a lista de aminoácidos\n",
    "    #   Se o aminoácido na iteração atual não for uma parada o inserimos na cadeia que estamos construindo\n",
    "    #   Se o aminoácido na iteração atual for uma parada inserimos finalizamos a cadeia que estamos construindo:\n",
    "    #        Adicionamos esta cadeia à lista cadeias e em seguida resetamos a variável cadeia a uma lista vazia (começaremos a construir uma nova cadeia)\n",
    "    \n",
    "    cadeias = []\n",
    "    \n",
    "    cadeia = []\n",
    "    \n",
    "    for amino in aminos:\n",
    "        \n",
    "        if amino!='stop': # entra aqui se o aminoácido nesta iteração não for um stop\n",
    "            cadeia = cadeia + [amino]\n",
    "            \n",
    "        else: # entra aqui se o aminoácido nesta iteração for um 'stop'\n",
    "            cadeias = cadeias + [cadeia]\n",
    "            cadeia = []\n",
    "        \n",
    "        \n",
    "    # Agora queremos retornar as cadeias de aminoácidos\n",
    "    \n",
    "    # EXTRA\n",
    "    # antes de retornar as cadeias vamos filtrar possíveis cadeias vazias:\n",
    "    l = cadeias # lista auxiliar, armazena temporariamente a lista de cadeias que acabamos de construir\n",
    "    cadeias = [] # vamos reconstruir a lista de cadeias, ignorando cadeias vazias\n",
    "    for c in l:\n",
    "        if c!=[]: # se a cadeia não for vazia será adicionada à lista de cadeias\n",
    "            cadeias = cadeias + [c]\n",
    "            \n",
    "            \n",
    "    return cadeias"
   ]
  },
  {
   "cell_type": "code",
   "execution_count": 90,
   "metadata": {},
   "outputs": [
    {
     "data": {
      "text/plain": [
       "[['Leu',\n",
       "  'Gly',\n",
       "  'Gly',\n",
       "  'Ile',\n",
       "  'Cys',\n",
       "  'Cys',\n",
       "  'His',\n",
       "  'Arg',\n",
       "  'Gly',\n",
       "  'Gly',\n",
       "  'Val',\n",
       "  'Gln',\n",
       "  'Ile'],\n",
       " ['Val', 'Gln', 'Ile']]"
      ]
     },
     "execution_count": 90,
     "metadata": {},
     "output_type": "execute_result"
    }
   ],
   "source": [
    "seq_teste = 'GATCCTCCATATACAACGGTATCTCCACCTCAGGTTTAGATCCAGGTTTAGATC'\n",
    "\n",
    "traducao( transcricao(seq_teste) )"
   ]
  },
  {
   "cell_type": "markdown",
   "metadata": {},
   "source": [
    "Agora vamos computar as cadeias de aminoácidos para toda a sequência do exercício, que está armazenada na variável `seq`:"
   ]
  },
  {
   "cell_type": "code",
   "execution_count": 91,
   "metadata": {},
   "outputs": [
    {
     "data": {
      "text/plain": [
       "'GATCCTCCATATACAACGGTATCTCCACCTCAGGTTTAGATCTCAACAACGGAACCATTGCCGACATGAGACAGTTAGGTATCGTCGAGAGTTACAAGCTAAAACGAGCAGTAGTCAGCTCTGCATCTGAAGCCGCTGAAGTTCTACTAAGGGTGGATAACATCATCCGTGCAAGACCAAGAACCGCCAATAGACAACATATGTAACATATTTAGGATATACCTCGAAAATAATAAACCGCCACACTGTCATTATTATAATTAGAAACAGAACGCAAAAATTATCCACTATATAATTCAAAGACGCGAAAAAAAAAGAACAACGCGTCATAGAACTTTTGGCAATTCGCGTCACAAATAAATTTTGGCAACTTATGTTTCCTCTTCGAGCAGTACTCGAGCCCTGTCTCAAGAATGTAATAATACCCATCGTAGGTATGGTTAAAGATAGCATCTCCACAACCTCAAAGCTCCTTGCCGAGAGTCGCCCTCCTTTGTCGAGTAATTTTCACTTTTCATATGAGAACTTATTTTCTTATTCTTTACTCTCACATCCTGTAGTGATTGACACTGCAACAGCCACCATCACTAGAAGAACAGAACAATTACTTAATAGAAAAATTATATCTTCCTCGAAACGATTTCCTGCTTCCAACATCTACGTATATCAAGAAGCATTCACTTACCATGACACAGCTTCAGATTTCATTATTGCTGACAGCTACTATATCACTACTCCATCTAGTAGTGGCCACGCCCTATGAGGCATATCCTATCGGAAAACAATACCCCCCAGTGGCAAGAGTCAATGAATCGTTTACATTTCAAATTTCCAATGATACCTATAAATCGTCTGTAGACAAGACAGCTCAAATAACATACAATTGCTTCGACTTACCGAGCTGGCTTTCGTTTGACTCTAGTTCTAGAACGTTCTCAGGTGAACCTTCTTCTGACTTACTATCTGATGCGAACACCACGTTGTATTTCAATGTAATACTCGAGGGTACGGACTCTGCCGACAGCACGTCTTTGAACAATACATACCAATTTGTTGTTACAAACCGTCCATCCATCTCGCTATCGTCAGATTTCAATCTATTGGCGTTGTTAAAAAACTATGGTTATACTAACGGCAAAAACGCTCTGAAACTAGATCCTAATGAAGTCTTCAACGTGACTTTTGACCGTTCAATGTTCACTAACGAAGAATCCATTGTGTCGTATTACGGACGTTCTCAGTTGTATAATGCGCCGTTACCCAATTGGCTGTTCTTCGATTCTGGCGAGTTGAAGTTTACTGGGACGGCACCGGTGATAAACTCGGCGATTGCTCCAGAAACAAGCTACAGTTTTGTCATCATCGCTACAGACATTGAAGGATTTTCTGCCGTTGAGGTAGAATTCGAATTAGTCATCGGGGCTCACCAGTTAACTACCTCTATTCAAAATAGTTTGATAATCAACGTTACTGACACAGGTAACGTTTCATATGACTTACCTCTAAACTATGTTTATCTCGATGACGATCCTATTTCTTCTGATAAATTGGGTTCTATAAACTTATTGGATGCTCCAGACTGGGTGGCATTAGATAATGCTACCATTTCCGGGTCTGTCCCAGATGAATTACTCGGTAAGAACTCCAATCCTGCCAATTTTTCTGTGTCCATTTATGATACTTATGGTGATGTGATTTATTTCAACTTCGAAGTTGTCTCCACAACGGATTTGTTTGCCATTAGTTCTCTTCCCAATATTAACGCTACAAGGGGTGAATGGTTCTCCTACTATTTTTTGCCTTCTCAGTTTACAGACTACGTGAATACAAACGTTTCATTAGAGTTTACTAATTCAAGCCAAGACCATGACTGGGTGAAATTCCAATCATCTAATTTAACATTAGCTGGAGAAGTGCCCAAGAATTTCGACAAGCTTTCATTAGGTTTGAAAGCGAACCAAGGTTCACAATCTCAAGAGCTATATTTTAACATCATTGGCATGGATTCAAAGATAACTCACTCAAACCACAGTGCGAATGCAACGTCCACAAGAAGTTCTCACCACTCCACCTCAACAAGTTCTTACACATCTTCTACTTACACTGCAAAAATTTCTTCTACCTCCGCTGCTGCTACTTCTTCTGCTCCAGCAGCGCTGCCAGCAGCCAATAAAACTTCATCTCACAATAAAAAAGCAGTAGCAATTGCGTGCGGTGTTGCTATCCCATTAGGCGTTATCCTAGTAGCTCTCATTTGCTTCCTAATATTCTGGAGACGCAGAAGGGAAAATCCAGACGATGAAAACTTACCGCATGCTATTAGTGGACCTGATTTGAATAATCCTGCAAATAAACCAAATCAAGAAAACGCTACACCTTTGAACAACCCCTTTGATGATGATGCTTCCTCGTACGATGATACTTCAATAGCAAGAAGATTGGCTGCTTTGAACACTTTGAAATTGGATAACCACTCTGCCACTGAATCTGATATTTCCAGCGTGGATGAAAAGAGAGATTCTCTATCAGGTATGAATACATACAATGATCAGTTCCAATCCCAAAGTAAAGAAGAATTATTAGCAAAACCCCCAGTACAGCCTCCAGAGAGCCCGTTCTTTGACCCACAGAATAGGTCTTCTTCTGTGTATATGGATAGTGAACCAGCAGTAAATAAATCCTGGCGATATACTGGCAACCTGTCACCAGTCTCTGATATTGTCAGAGACAGTTACGGATCACAAAAAACTGTTGATACAGAAAAACTTTTCGATTTAGAAGCACCAGAGAAGGAAAAACGTACGTCAAGGGATGTCACTATGTCTTCACTGGACCCTTGGAACAGCAATATTAGCCCTTCTCCCGTAAGAAAATCAGTAACACCATCACCATATAACGTAACGAAGCATCGTAACCGCCACTTACAAAATATTCAAGACTCTCAAAGCGGTAAAAACGGAATCACTCCCACAACAATGTCAACTTCATCTTCTGACGATTTTGTTCCGGTTAAAGATGGTGAAAATTTTTGCTGGGTCCACT'"
      ]
     },
     "execution_count": 91,
     "metadata": {},
     "output_type": "execute_result"
    }
   ],
   "source": [
    "seq"
   ]
  },
  {
   "cell_type": "code",
   "execution_count": 92,
   "metadata": {},
   "outputs": [],
   "source": [
    "# O resultado do encadeamento das duas funções ficará armazenado na variável cadeias\n",
    "# OBS: esta variável cadeias definida abaixo não tem nenhuma relação com aquela usada dentro da função traducao!!\n",
    "cadeias = traducao(transcricao(seq)) "
   ]
  },
  {
   "cell_type": "markdown",
   "metadata": {},
   "source": [
    "Agora vamos imprimir as cadeias formatadas para o usuário:"
   ]
  },
  {
   "cell_type": "code",
   "execution_count": 93,
   "metadata": {},
   "outputs": [
    {
     "name": "stdout",
     "output_type": "stream",
     "text": [
      "Leu-Gly-Gly-Ile-Cys-Cys-His-Arg-Gly-Gly-Val-Gln-Ile \n",
      "\n",
      "Ser-Cys-Cys-Leu-Gly-Asn-Gly-Cys-Thr-Leu-Ser-Ile-His-Ser-Ser-Ser-Gln-Cys-Ser-Ile-Leu-Leu-Val-Ile-Ser-Arg-Asp-Val-Asp-Phe-Gly-Asp-Phe-Lys-Met-Ile-Pro-Thr-Tyr-Cys-Ser-Arg-His-Val-Leu-Val-Leu-Gly-Gly-Tyr-Leu-Leu-Tyr-Thr-Leu-Tyr-Lys-Ser-Tyr-Met-Glu-Leu-Leu-Leu-Phe-Gly-Gly-Val-Thr-Val-Ile-Ile-Leu-Ile-Phe-Val-Leu-Arg-Phe \n",
      "\n",
      "Val-Ile-Tyr \n",
      "\n",
      "Val-Ser-Ala-Leu-Phe-Phe-Ser-Cys-Cys-Ala-Val-Ser \n",
      "\n",
      "Lys-Pro-Leu-Ser-Ala-Val-Phe-Ile \n",
      "\n",
      "Asn-Arg \n",
      "\n",
      "Ile-Gln-Arg-Arg-Ser-Ser-Ser \n",
      "\n",
      "Ala-Arg-Asp-Arg-Val-Leu-Thr-Leu-Leu-Trp-Val-Ala-Ser-Ile-Pro-Ile-Ser-Ile-Val-Glu-Val-Leu-Glu-Phe-Arg-Gly-Thr-Ala-Leu-Ser-Gly-Arg-Lys-Gln-Leu-Ile-Lys-Ser-Glu-Lys-Tyr-Thr-Leu-Glu \n",
      "\n",
      "Lys-Asn-Lys-Lys \n",
      "\n",
      "Glu-Cys-Arg-Thr-Ser-Leu-Thr-Val-Thr-Leu-Ser-Val-Val-Val-Ile-Phe-Leu-Ser-Cys \n",
      "\n",
      "Ile-Ile-Phe-Leu-Ile \n",
      "\n",
      "Lys-Glu-Leu-Cys \n",
      "\n",
      "Arg-Thr-Lys-Val-Val-Asp-Ala-Tyr-Ser-Ser-Ser \n",
      "\n",
      "Val-Asn-Gly-Thr-Val-Ser-Lys-Ser-Lys-Val-Ile-Thr-Thr-Val-Asp-Asp-Ile-Val-Met-Arg \n",
      "\n",
      "Ile-Ile-Thr-Gly-Ala-Gly-Tyr-Ser-Val \n",
      "\n",
      "Asp-Ser-Leu-Leu-Leu-Trp-Gly-Val-Thr-Val-Leu-Ser-Tyr-Leu-Ala-Asn-Val-Lys-Phe-Lys-Gly-Tyr-Tyr-Gly-Tyr-Leu-Ala-Asp-Ile-Cys-Ser-Val-Glu-Phe-Ile-Val-Cys \n",
      "\n",
      "Arg-Ser \n",
      "\n",
      "Met-Ala-Arg-Pro-Lys-Ala-Asn \n",
      "\n",
      "Asp-Gln-Asp-Leu-Ala-Arg-Val-His-Leu-Glu-Glu-Asp \n",
      "\n",
      "Met-Ile-Asp-Tyr-Ala-Cys-Gly-Ala-Thr \n",
      "\n",
      "Ser-Tyr-Ile-Met-Ser-Ser-His-Ala \n",
      "\n",
      "Asp-Gly-Cys-Arg-Ala-Glu-Thr-Cys-Tyr-Val-Trp-Leu-Asn-Asn-Asn-Val-Trp-Gln-Val-Gly-Arg-Ala-Ile-Ala-Val \n",
      "\n",
      "Ser \n",
      "\n",
      "Ile-Thr-Ala-Thr-Ile-Phe \n",
      "\n",
      "Tyr-Gln-Tyr-Asp-Cys-Arg-Phe-Cys-Glu-Thr-Leu-Ile \n",
      "\n",
      "Asp-Tyr-Phe-Arg-Ser-Cys-Thr-Glu-Asn-Trp-Gln-Val-Thr-Ser-Asp-Cys-Phe-Leu-Gly-Asn-Thr-Ala \n",
      "\n",
      "Cys-Leu-Gln-Glu-Ser-Thr-Tyr-Tyr-Ala-Ala-Met-Gly \n",
      "\n",
      "Pro-Thr-Arg-Ser \n",
      "\n",
      "Asp-Arg-Ser-Thr-Ser-Asn-Asp-Pro-Ala-Val-Ala-Thr-Ile \n",
      "\n",
      "Ala-Ala-Asn-Glu-Val-Phe-Val-Arg-Cys-Gln-Asn-Ser-Ser-Ser-Asp-Val-Cys-Asn-Phe-Leu-Lys-Asp-Gly-Asn-Ser-Ile-Leu-Ser-Leu-Ile-Ser-Ser-Pro-Glu-Trp-Ser-Ile-Asp-Gly-Asp-Lys-Phe-Tyr-Gln-Thr-Ile-Ser-Cys-Asn-Asp-Cys-Val-His-Cys-Lys-Val-Tyr \n",
      "\n",
      "Met-Glu-Ile \n",
      "\n",
      "Tyr-Lys \n",
      "\n",
      "Ser-Tyr-Cys \n",
      "\n",
      "Asp-Lys-Glu-Asp-Tyr-Leu-Thr-Gln-Asp-Ile \n",
      "\n",
      "Ile-Thr-Tyr-Glu-Val \n",
      "\n",
      "Pro-Thr-Val-Ile-Tyr-Tyr-Asp-Gly-Lys-Gly-Pro-Asp-Arg-Val-Tyr-Leu-Met-Ser-His-Ser \n",
      "\n",
      "Gly \n",
      "\n",
      "Asp-Gly \n",
      "\n",
      "Lys-Asp-Thr-Gly-Lys-Tyr-Tyr-Glu-Tyr-His-Tyr-Thr-Lys \n",
      "\n",
      "Ser \n",
      "\n",
      "Ser-Phe-Asn-Arg-Gly-Val-Ala \n",
      "\n",
      "Thr-Asn-Gly-Asn-Gln-Glu-Lys-Gly-Tyr-Asn-Cys-Asp-Val-Pro-His-Leu-Pro-Arg-Gly \n",
      "\n",
      "Lys-Thr-Glu-Glu-Ser-Asn-Val \n",
      "\n",
      "Cys-Thr-Tyr-Val-Cys-Lys-Val-Ile-Ser-Asn-Asp \n",
      "\n",
      "Val-Arg-Phe-Trp-Tyr \n",
      "\n",
      "Pro-Thr-Leu-Arg-Leu-Val-Asp \n",
      "\n",
      "Ile-Val-Ile-Asp-Leu-Phe-Thr-Gly-Ser \n",
      "\n",
      "Ser-Cys-Ser-Lys-Val-Ile-Gln-Thr-Phe-Ala-Trp-Phe-Gln-Val-Leu-Glu-Phe-Ser-Ile \n",
      "\n",
      "Asn-Cys-Ser-Asn-Arg-Thr \n",
      "\n",
      "Val-Ser-Ile-Glu \n",
      "\n",
      "Val-Trp-Cys-His-Ala-Tyr-Val-Ala-Gly-Val-Leu-Gln-Glu-Trp \n",
      "\n",
      "Gly-Gly-Val-Val-Gln-Glu-Cys-Val-Glu-Asp-Glu-Cys-Asp-Val-Phe-Lys-Glu-Asp-Gly-Gly-Asp-Asp-Asp-Glu-Glu-Asp-Glu-Val-Val-Ala-Thr-Val-Val-Gly-Tyr-Phe-Glu-Val-Glu-Cys-Tyr-Phe-Phe-Val-Ile-Val-Asn-Ala-Arg-His-Asn-Asp-Arg-Val-Ile-Arg-Asn-Arg-Ile-Ile-Glu-Ser-Lys-Arg-Arg-Ile-Ile-Arg-Pro-Leu-Arg-Leu-Pro-Phe \n",
      "\n",
      "Val-Cys-Tyr-Phe \n",
      "\n",
      "Met-Ala-Tyr-Asp-Asn-His-Leu-Asp \n",
      "\n",
      "Thr-Tyr \n",
      "\n",
      "Asp-Val-Tyr-Leu-Val \n",
      "\n",
      "Phe-Phe-Cys-Asp-Val-Glu-Thr-Cys-Trp-Gly-Asn-Tyr-Tyr-Tyr-Glu-Gly-Ala-Cys-Tyr-Tyr-Glu-Val-Ile-Val-Leu-Leu-Thr-Asp-Glu-Thr-Cys-Glu-Thr-Leu-Thr-Tyr-Trp \n",
      "\n",
      "Asp-Gly-Asp-Leu-Asp-Tyr-Lys-Gly-Arg-Thr-Tyr-Phe-Ser-Leu \n",
      "\n",
      "Glu-Ile-Val-His-Thr-Tyr-Val-Cys-Tyr \n",
      "\n",
      "Ser-Arg-Leu-Gly-Phe-His-Phe-Phe-Leu-Ile-Ile-Val-Leu-Gly-Val-Met-Ser-Glu-Val-Ser-Arg-Ala-Arg-Asn-Trp-Val-Ser-Tyr-Pro-Glu-Glu-Asp-Thr-Tyr-Thr-Tyr-His-Leu-Val-Val-Ile-Tyr-Leu-Gly-Pro-Leu-Tyr-Asp-Arg-Trp-Thr-Val-Val-Arg-Asp-Tyr-Asn-Ser-Leu-Cys-Gln-Cys-Leu-Val-Phe-Phe-Asp-Asn-Tyr-Val-Phe-Leu-Lys-Ser \n",
      "\n",
      "Ile-Phe-Val-Val-Ser-Ser-Phe-Leu-His-Ala-Val-Pro-Tyr-Ser-Asp-Thr-Glu-Val-Thr-Trp-Glu-Pro-Cys-Arg-Tyr-Asn-Arg-Glu-Glu-Gly-Ile-Leu-Leu-Val-Ile-Val-Val-Val-Val-Tyr-Cys-Ile-Ala-Ser \n",
      "\n",
      "His-Trp-Arg \n",
      "\n",
      "Met-Phe-Tyr-Lys-Phe \n",
      "\n",
      "Glu-Phe-Arg-His-Phe-Cys-Leu-Ser-Glu-Gly-Val-Val-Thr-Val-Glu-Val-Glu-Asp-Cys \n",
      "\n",
      "Asn-Lys-Ala-Asn-Phe-Tyr-His-Phe \n",
      "\n",
      "Lys-Arg-Pro-Arg \n",
      "\n"
     ]
    }
   ],
   "source": [
    "for cadeia in cadeias: # para cada cadeia na lista de cadeias:\n",
    "    r=\"\"                 # cria uma variável para armazenar os aminoácidos\n",
    "    for amino in cadeia: # para cada aminoácido na cadeia da iteração atual:\n",
    "        r = r + amino+\"-\"  # adiciona o aminoácido à variável r (junto com um traço \"-\" para separá-los )\n",
    "        \n",
    "    print(r[:-1],\"\\n\")   # Quando r estiver construída para a cadeia da iteração atual, imprimir r (com exceção do último caractere, que é um \"-\")"
   ]
  },
  {
   "cell_type": "markdown",
   "metadata": {},
   "source": [
    "---"
   ]
  },
  {
   "cell_type": "markdown",
   "metadata": {},
   "source": [
    "## 7. Considerações Finais"
   ]
  },
  {
   "cell_type": "markdown",
   "metadata": {},
   "source": [
    "Os exemplos apresentados nesta aula serviram para mostrar que está ao seu alcance modelar um problema real em biologia usando uma linguagem de computação de alto nível como *Python*. Entretanto até agora apenas utilizamos *Python* puro, ou seja, apenas funcionalidades que estão incluídas no **núcleo** da linguagem. Pense em *Python* puro como um kit básico de lego, que somente contém os clássicos blocos montáveis em várias cores. É possível construir incríveis estruturas com eles, é verdade. Mas na prática, quando queremos agilidade no desenvolvimento de nossas aplicações quase nunca \"partimos do zero\". Recorremos a pedaços de código pronto (desenvolvidos por outros programadores), que já implementam bem algumas das funcionalidades básicas que desejamos incluir na aplicação. Estas funcionalidades normalmente são incluídas como **Bibliotecas**, **pacotes** e **módulos**. A biblioteca *Python-StarWars* abaixo, por exemplo, já fornece prontas peças de *stormtroopers*, *droids*, *wookies* e outros elementos indispensáveis para brincar de *Star Wars*. Imagine se você precisasse construir cada um dos elementos a partir do lego clássico para começar a brincar..."
   ]
  },
  {
   "cell_type": "markdown",
   "metadata": {},
   "source": [
    "<img src=\"img/lego_libraries.png\" >"
   ]
  },
  {
   "cell_type": "markdown",
   "metadata": {},
   "source": [
    "Veja uma lista de algumas bibliotecas e pacotes potencialmente interessantes para um biólogo:\n",
    "* [Biopython](http://biopython.org/) com funcionalidades específicas para aplicações em biologia molecular computacional, na **bioinformática**;\n",
    "* [Numpy](http://www.numpy.org/) para computação científica, com representações e operações otimizadas sobre objetos matemáticos;\n",
    "* [Pandas](http://pandas.pydata.org/) para representação de *Data frames* e análise de dados;\n",
    "* [Matplotlib](https://matplotlib.org/) para construção de figuras (visualização de dados);\n",
    "* [Statsmodels](http://www.statsmodels.org/stable/index.html) para trabalhar com modelos estatísticos;\n",
    "* [ScikitLearn](http://scikit-learn.org/stable/) para trabalhar com algoritmos de aprendizado de máquina;\n",
    "* [Networkx](https://networkx.github.io/) para construir modelos em redes complexas;\n",
    "* [ArcPy](http://desktop.arcgis.com/en/arcmap/10.3/analyze/arcpy/what-is-arcpy-.htm) é um pacote para automação de tarefas de análise e geração de mapas em ArcGis;\n",
    "* [Matplotlib Basemap](https://matplotlib.org/basemap/) é um conjunto de ferramentas para plotar mapas em python, utilizando como base a *Matplotlib*;\n",
    "* [Pygbif](http://pygbif.readthedocs.io/en/latest/) é um cliente *Python* que facilita o acesso a dados de ocorrência de espécies no [GBIF](https://www.gbif.org/) (Global Biodiversity Information Facility).\n",
    "\n",
    "entre muitos outros..."
   ]
  }
 ],
 "metadata": {
  "kernelspec": {
   "display_name": "Python 3",
   "language": "python",
   "name": "python3"
  },
  "language_info": {
   "codemirror_mode": {
    "name": "ipython",
    "version": 3
   },
   "file_extension": ".py",
   "mimetype": "text/x-python",
   "name": "python",
   "nbconvert_exporter": "python",
   "pygments_lexer": "ipython3",
   "version": "3.6.1"
  }
 },
 "nbformat": 4,
 "nbformat_minor": 2
}
