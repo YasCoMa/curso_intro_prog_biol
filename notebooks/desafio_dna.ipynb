{
 "cells": [
  {
   "cell_type": "markdown",
   "metadata": {},
   "source": [
    "<div class=\"row\">\n",
    "  <div class=\"col-xs-2 col-xs-offset-3\">\n",
    "  <img src=\"img/semabio.jpg\" width=80>\n",
    "  </div>\n",
    "  \n",
    "  <div class=\"col-xs-1\" style=\"margin-top: 12px;\">\n",
    "  <a href=\"http://www.unb.br\" target=\"_blank\"><img src=\"img/unb.jpg\" width=70></a>\n",
    "  </div>\n",
    "\n",
    "  <div class=\"col-xs-3\" style=\"margin-top: 14px;\">\n",
    "  <a href=\"http://www.lncc.br\" target=\"_blank\"><img src=\"img/lncc.png\" width=140></a>\n",
    "  </div>\n",
    "</div>"
   ]
  },
  {
   "cell_type": "markdown",
   "metadata": {},
   "source": [
    "## <center>Programação de Computadores para Estudantes de Biologia</center>\n",
    "###  <center>Uma Introdução Prática</center>\n",
    "\n",
    "---\n",
    "## <center>Desafio: O DNA na era do Big Data</center>\n",
    "##### <center>Instrutor: <a href=\"https://pedrosiracusa.github.io\" target=\"_blank\">Pedro C. de Siracusa</a></center>\n",
    "##### <center>Data: Out 2017</center>"
   ]
  },
  {
   "cell_type": "markdown",
   "metadata": {},
   "source": [
    "##### Contextualização"
   ]
  },
  {
   "cell_type": "markdown",
   "metadata": {},
   "source": [
    "Você já deve ter ouvido falar que estamos vivendo na era do \"*Big Data*\", um termo que se refere ao enorme conjunto de dados sendo produzido pela humanidade em taxa explosiva, que supera muito nossa capacidade atual para processá-lo, armazená-lo e analisá-lo. Dentre os muitos desafios que emergem deste conceito um se refere ao armazenamento de dados. Atualmente o meio mais comum de armazenar dados digitalmente é através de dispositivos eletromagnéticos, principalmente discos rígidos (HDDs), embora discos de estado sólido (SSDs) sejam emergentes no mercado consumidor. Discos rígidos possuem em sua superfície minúsculas regiões magnéticas que podem ser **magnetizadas** (bit 1) ou **desmagnetizadas** (bit 0) para armazenar informação **binária**.\n",
    "\n",
    "Embora este meio de armazenamento tem de fato cada dia se tornado mais barato, alternativas de armazenamento mais compactas e de maior capacidade têm sido energicamente buscadas. Você, biólogo, pode se perguntar: \n",
    "\n",
    "\"O DNA armazena um enorme volume de informação de organismos vivos! E se pudéssemos utilizá-lo para armazenar outros tipos de informação também?\" \n",
    "\n",
    "E esta é de fato uma idéia bilionária! Cientistas de *Harvard* recentemente publicaram um magnífico trabalho mostrando como codificar imagens em DNA bacteriano utilizando técnicas de engenharia genética! Se você estiver afiado no assunto pode encarar o paper original publicado pela revista *Nature*, que está referenciado abaixo (se você achou o texto muito complexo ou ainda não conhece o *Sci-Hub* leia este [texto de divulgação](https://qz.com/1026964/scientists-used-crispr-gene-editing-to-store-images-in-the-dna-of-living-bacteria/) no lugar).\n",
    "\n",
    "**Obs**: Se você tiver curiosidade veja rapidamente a seção dos métodos do artigo original. Adivinhe qual foi a linguagem usada para fazer a codificação da imagem em sequências de DNA? =]"
   ]
  },
  {
   "cell_type": "markdown",
   "metadata": {},
   "source": [
    "> Shipman, S. L., Nivala, J., Macklis, J. D., & Church, G. M. (2017). CRISPR–Cas encoding of a digital movie into the genomes of a population of living bacteria. https://doi.org/10.1038/nature23017 "
   ]
  },
  {
   "cell_type": "markdown",
   "metadata": {},
   "source": [
    "A página [*Pictoline*](https://www.facebook.com/pictoline/) produziu esta ilustração fantástica resumindo como foi feito o trabalho."
   ]
  },
  {
   "cell_type": "markdown",
   "metadata": {},
   "source": [
    "<img src=\"img/bacteria_dna_storage.png\" />"
   ]
  },
  {
   "cell_type": "markdown",
   "metadata": {
    "collapsed": true
   },
   "source": [
    "<img src=\"img/bacteria_dna_storage.jpg\" />"
   ]
  },
  {
   "cell_type": "markdown",
   "metadata": {},
   "source": [
    "---"
   ]
  },
  {
   "cell_type": "markdown",
   "metadata": {},
   "source": [
    "##### Desenvolvimento: \n",
    "#### O DNA de Einstein"
   ]
  },
  {
   "cell_type": "markdown",
   "metadata": {},
   "source": [
    "Inspirado no estudo acima, seu desafio será escrever código para codificar (e descodificar) uma imagem de *Albert Einstein* em uma sequência de DNA."
   ]
  },
  {
   "cell_type": "markdown",
   "metadata": {},
   "source": [
    "<img src=\"einstein.jpg\" />"
   ]
  },
  {
   "cell_type": "markdown",
   "metadata": {},
   "source": [
    "A imagem possui 150x150 pixels em escala de cinza, o que significa que cada pixel está associado a um valor entre 0 e 255. Caso o pixel tenha valor 0 ele possui cor preta, e caso tenha valor 255 ele possui cor branca. Cores intermediárias são variações mais claras e mais escuras de cinza."
   ]
  },
  {
   "cell_type": "markdown",
   "metadata": {},
   "source": [
    "O material apresentado no minicurso é quase suficiente para que você consiga solucionar este desafio. Lembre-se de, antes de começar a programar, tentar subdividir seu problema em subproblemas mais simples. Caso fique preso em alguma etapa, lembre-se: o Google é seu amigo! Muitas dúvidas relativas a programação em *Python* já foram respondidas por alguém (ajudará mais se você pesquisar em inglês) em comunidades como o [*Stack Overflow*](https://stackoverflow.com/)."
   ]
  },
  {
   "cell_type": "markdown",
   "metadata": {},
   "source": [
    "Como o tópico sobre leitura e plotagem de arquivos de imagem não foi abordada no curso, ficam aqui duas dicas:\n",
    "1. Para **ler** uma imagem de um arquivo como um array de pixels você pode usar a função [`imread`](https://docs.scipy.org/doc/scipy/reference/generated/scipy.misc.imread.html#scipy.misc.imread), que deve ser importada do módulo `scipy.misc` da biblioteca [*Scipy*](https://www.scipy.org/). \n",
    "\n",
    "2. Para **desenhar** a imagem você pode utilizar a função [`imshow`](https://matplotlib.org/api/pyplot_api.html#matplotlib.pyplot.imshow), que deve ser importada do módulo `matplotlib.pyplot` da biblioteca [*Matplotlib*](http://matplotlib.org/)."
   ]
  },
  {
   "cell_type": "code",
   "execution_count": null,
   "metadata": {
    "collapsed": true
   },
   "outputs": [],
   "source": []
  },
  {
   "cell_type": "code",
   "execution_count": null,
   "metadata": {
    "collapsed": true
   },
   "outputs": [],
   "source": []
  },
  {
   "cell_type": "code",
   "execution_count": null,
   "metadata": {
    "collapsed": true
   },
   "outputs": [],
   "source": []
  },
  {
   "cell_type": "code",
   "execution_count": null,
   "metadata": {
    "collapsed": true
   },
   "outputs": [],
   "source": []
  },
  {
   "cell_type": "code",
   "execution_count": null,
   "metadata": {
    "collapsed": true
   },
   "outputs": [],
   "source": []
  },
  {
   "cell_type": "code",
   "execution_count": null,
   "metadata": {
    "collapsed": true
   },
   "outputs": [],
   "source": []
  },
  {
   "cell_type": "code",
   "execution_count": null,
   "metadata": {
    "collapsed": true
   },
   "outputs": [],
   "source": []
  }
 ],
 "metadata": {
  "kernelspec": {
   "display_name": "Python 3",
   "language": "python",
   "name": "python3"
  },
  "language_info": {
   "codemirror_mode": {
    "name": "ipython",
    "version": 3
   },
   "file_extension": ".py",
   "mimetype": "text/x-python",
   "name": "python",
   "nbconvert_exporter": "python",
   "pygments_lexer": "ipython3",
   "version": "3.6.1"
  }
 },
 "nbformat": 4,
 "nbformat_minor": 2
}
