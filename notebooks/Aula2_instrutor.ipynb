{
 "cells": [
  {
   "cell_type": "markdown",
   "metadata": {},
   "source": [
    "<div class=\"row\">\n",
    "  <div class=\"col-xs-2 col-xs-offset-3\">\n",
    "  <img src=\"img/semabio.jpg\" width=80>\n",
    "  </div>\n",
    "  \n",
    "  <div class=\"col-xs-1\" style=\"margin-top: 12px;\">\n",
    "  <a href=\"http://www.unb.br\" target=\"_blank\"><img src=\"img/unb.jpg\" width=70></a>\n",
    "  </div>\n",
    "\n",
    "  <div class=\"col-xs-3\" style=\"margin-top: 14px;\">\n",
    "  <a href=\"http://www.lncc.br\" target=\"_blank\"><img src=\"img/lncc.png\" width=140></a>\n",
    "  </div>\n",
    "</div>"
   ]
  },
  {
   "cell_type": "markdown",
   "metadata": {},
   "source": [
    "## <center>Programação de Computadores para Estudantes de Biologia</center>\n",
    "###  <center>Uma Introdução Prática</center>\n",
    "\n",
    "---\n",
    "## <center>Aula 2. Monitoramento de Fauna</center>\n",
    "##### <center>Instrutor: <a href=\"https://pedrosiracusa.github.io\" target=\"_blank\">Pedro C. de Siracusa</a></center>\n",
    "##### <center>Data: Out 2017</center>"
   ]
  },
  {
   "cell_type": "markdown",
   "metadata": {},
   "source": [
    "##### Conteúdos\n",
    "* [1. Navegando por Diretórios](#sec1)\n",
    "\n",
    "* [2. Leitura e Escrita de Arquivos](#sec2)\n",
    "  \n",
    "* [3. Vetores e Matrizes](#sec3)\n",
    "  \n",
    "* [4. Tuplas](#sec4)"
   ]
  },
  {
   "cell_type": "markdown",
   "metadata": {},
   "source": [
    "---"
   ]
  },
  {
   "cell_type": "markdown",
   "metadata": {},
   "source": [
    "##### Contextualização\n",
    "\n",
    "Você está participando de um levantamento dos mamíferos que ocorrem no *Parque Nacional de Brasília* e está utilizando [armadilhas fotográficas](http://www.euquerobiologia.com.br/2012/02/armadilhas-fotograficas-para-estudo-de.html) (*camera traps*) para obter os registros. No experimento o território estudado foi dividido em um *grid* de 100 células (10x10), cada qual contendo uma armadilha. A Figura 1 ilustra a disposição das câmeras no grid."
   ]
  },
  {
   "cell_type": "markdown",
   "metadata": {},
   "source": [
    "<img src=\"img/trapcams_diagram.png\">"
   ]
  },
  {
   "cell_type": "markdown",
   "metadata": {},
   "source": [
    "Cada armadilha grava cada um de seus registros em um arquivo separado no cartão de memória, que são copiados para seu computador quando sua equipe vai a campo fazer as revisões. Para manter a organização sua equipe resolveu guardar os registros de cada câmera em diretórios separados, que levam o nome da câmera. Ao final do levantamento você precisará gerar um mapa de ocorrência das espécies, que se baseará no número de vezes que cada espécie foi registrada em cada grid. Seus colegas sugeriram que você analisasse cada um dos arquivos das 100 câmeras a cada revisão e adicionasse os novos dados a uma planilha no *Excel*. Mas como você já conhece um pouco sobre programação sabe que existe uma maneira muito mais prática de fazer este trabalho. Você quer desenvolver uma aplicação que receba do usuário o nome de uma espécie e automaticamente mostre o mapa da distribuição daquela espécie no grid."
   ]
  },
  {
   "cell_type": "markdown",
   "metadata": {},
   "source": [
    "##### Desenvolvimento"
   ]
  },
  {
   "cell_type": "markdown",
   "metadata": {},
   "source": [
    "<span id=\"sec1\"></span>\n",
    "## 1. Navegando por diretórios\n"
   ]
  },
  {
   "cell_type": "markdown",
   "metadata": {},
   "source": [
    "* Módulos e Pacotes \n",
    "* [Índice de módulos](https://docs.python.org/3/py-modindex.html) de Python;"
   ]
  },
  {
   "cell_type": "markdown",
   "metadata": {},
   "source": [
    "Importando o módulo 'os'"
   ]
  },
  {
   "cell_type": "code",
   "execution_count": null,
   "metadata": {
    "collapsed": true
   },
   "outputs": [],
   "source": []
  },
  {
   "cell_type": "markdown",
   "metadata": {},
   "source": [
    "Verificando elementos em um diretório"
   ]
  },
  {
   "cell_type": "code",
   "execution_count": null,
   "metadata": {
    "collapsed": true
   },
   "outputs": [],
   "source": []
  },
  {
   "cell_type": "code",
   "execution_count": null,
   "metadata": {
    "collapsed": true
   },
   "outputs": [],
   "source": []
  },
  {
   "cell_type": "code",
   "execution_count": null,
   "metadata": {
    "collapsed": true
   },
   "outputs": [],
   "source": []
  },
  {
   "cell_type": "markdown",
   "metadata": {},
   "source": [
    "---"
   ]
  },
  {
   "cell_type": "markdown",
   "metadata": {},
   "source": [
    "<span id=\"sec2\"></span>\n",
    "## 2. Leitura e escrita de arquivos"
   ]
  },
  {
   "cell_type": "markdown",
   "metadata": {},
   "source": [
    "Escrevendo um arquivo"
   ]
  },
  {
   "cell_type": "code",
   "execution_count": 30,
   "metadata": {},
   "outputs": [],
   "source": [
    "mensagem = \"\"\"Não é o mais forte que sobrevive.\n",
    "Nem o mais inteligente.\n",
    "Mas o que melhor se adapta às mudanças\n",
    "(Charles Darwin)\"\"\""
   ]
  },
  {
   "cell_type": "code",
   "execution_count": null,
   "metadata": {
    "collapsed": true
   },
   "outputs": [],
   "source": []
  },
  {
   "cell_type": "markdown",
   "metadata": {},
   "source": [
    "Lendo um arquivo"
   ]
  },
  {
   "cell_type": "code",
   "execution_count": null,
   "metadata": {
    "collapsed": true
   },
   "outputs": [],
   "source": []
  },
  {
   "cell_type": "code",
   "execution_count": null,
   "metadata": {
    "collapsed": true
   },
   "outputs": [],
   "source": []
  },
  {
   "cell_type": "markdown",
   "metadata": {},
   "source": [
    "---"
   ]
  },
  {
   "cell_type": "markdown",
   "metadata": {
    "collapsed": true
   },
   "source": [
    "<span id=\"sec3\"></span>\n",
    "## 3. Vetores e Matrizes"
   ]
  },
  {
   "cell_type": "markdown",
   "metadata": {},
   "source": [
    "Na matemática um **vetor** (*array*) de $n$ dimensões é uma estrutura que armazena $n$ elementos:\n",
    "\n",
    "$$\n",
    "V=\n",
    "  \\begin{bmatrix}\n",
    "    a_1  \\\\\n",
    "    a_2  \\\\\n",
    "    \\vdots \\\\\n",
    "    a_n  \\\\\n",
    "  \\end{bmatrix}\n",
    "$$"
   ]
  },
  {
   "cell_type": "markdown",
   "metadata": {},
   "source": [
    "Uma **matriz** (*matrix*) é uma estrutura cuja dimensão é dada por um par de números $n \\times m$. Dizemos que uma matriz $n \\times m$ possui $n$ linhas e $m$ colunas. Você pode pensar em uma matriz como um vetor de vetores. Por outro lado você pode também pensar em um vetor como uma matriz de dimensão $n \\times 1$, ou seja, uma matriz de $n$ linhas e $1$ coluna. Por exemplo a matriz abaixo pode ser construída adicionando $m$ vetores de $n$ dimensões, um ao lado do outro:\n",
    "\n",
    "$$\n",
    "M=\n",
    "  \\begin{bmatrix}\n",
    "    a_{1,1} & a_{1,2} & \\cdots & a_{1,m}  \\\\\n",
    "    a_{2,1} & a_{2,2} & \\cdots & a_{2,m} \\\\\n",
    "    \\vdots  & \\vdots  & \\cdots & \\vdots \\\\\n",
    "    a_{n,1} & a_{n,2} & \\cdots & a_{n,m}  \\\\\n",
    "  \\end{bmatrix}\n",
    "$$\n",
    "\n"
   ]
  },
  {
   "cell_type": "markdown",
   "metadata": {},
   "source": [
    "Vetores e matrizes **não** são estruturas nativas em *Python*. Entretanto elas podem ser facilmente representadas por meio de listas. Lembre-se de que listas *Python* são indexadas a partir de 0, e não de 1 como nas matrizes acima! Representar um vetor como uma lista *Python* é trivial."
   ]
  },
  {
   "cell_type": "markdown",
   "metadata": {},
   "source": [
    "* Vetores\n",
    "  * Representação;\n",
    "  * Acessando elementos;\n",
    "  \n",
    "* Matrizes\n",
    "  * Representação\n",
    "  * Acessando elementos;"
   ]
  },
  {
   "cell_type": "code",
   "execution_count": null,
   "metadata": {},
   "outputs": [],
   "source": []
  },
  {
   "cell_type": "code",
   "execution_count": null,
   "metadata": {
    "collapsed": true
   },
   "outputs": [],
   "source": []
  },
  {
   "cell_type": "code",
   "execution_count": null,
   "metadata": {
    "collapsed": true
   },
   "outputs": [],
   "source": []
  },
  {
   "cell_type": "markdown",
   "metadata": {},
   "source": [
    "---"
   ]
  },
  {
   "cell_type": "markdown",
   "metadata": {},
   "source": [
    "<span id=\"sec4\"></span>\n",
    "## 4. Tuplas"
   ]
  },
  {
   "cell_type": "markdown",
   "metadata": {},
   "source": [
    "* Tuplas são imutáveis"
   ]
  },
  {
   "cell_type": "code",
   "execution_count": null,
   "metadata": {
    "collapsed": true
   },
   "outputs": [],
   "source": []
  },
  {
   "cell_type": "markdown",
   "metadata": {},
   "source": [
    "---"
   ]
  }
 ],
 "metadata": {
  "kernelspec": {
   "display_name": "Python 3",
   "language": "python",
   "name": "python3"
  },
  "language_info": {
   "codemirror_mode": {
    "name": "ipython",
    "version": 3
   },
   "file_extension": ".py",
   "mimetype": "text/x-python",
   "name": "python",
   "nbconvert_exporter": "python",
   "pygments_lexer": "ipython3",
   "version": "3.6.1"
  }
 },
 "nbformat": 4,
 "nbformat_minor": 2
}
